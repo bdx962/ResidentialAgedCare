{
 "cells": [
  {
   "cell_type": "markdown",
   "metadata": {},
   "source": [
    "# Requirements\n",
    "* 1.Walk through your model step by step, starting with EDA\n",
    "    * What are your variables of interest?\n",
    "    * What outliers did you remove?\n",
    "    * What types of data imputation did you perform?\n",
    " \n",
    "* 2.Summarize your statistical analysis, including:\n",
    "    * model selection\n",
    "    * implementation\n",
    "    * evaluation\n",
    "    * inference"
   ]
  },
  {
   "cell_type": "markdown",
   "metadata": {},
   "source": [
    "# Identify Sentiment from Reviews\n",
    "\n",
    "#### Reviews were scrapped from Whirlpool Forums\n",
    "\n",
    "### Assumption\n",
    "* Not applicable\n",
    "\n",
    "### Variables of interest\n",
    "* The reviews scrapped\n",
    "\n",
    "### Outliers\n",
    "*  There are no outliers\n",
    "\n",
    "### Data Imputation\n",
    "* No data imputation was required as the data are reviews\n",
    "\n",
    "### EDA\n",
    "* Apply the English stopwords to remove the irrelavant words\n",
    "\n",
    "### Models used:\n",
    "* TextBlob - provides functions to determine if specific words are sad, happy or neutral\n",
    "* TF-IDF - to ensure the count of words are proportionate as this impacts the model\n",
    "   \n",
    "### Inference/ Result\n",
    "* The accuracy score of 0.72 suggest that the reviews about residential aged care is more positive than negative considering the topics are related to illness, the infirmed, death, depression, sickness etc. This suggest that entering a residential aged care is a necessary rather than emotional decision. "
   ]
  },
  {
   "cell_type": "code",
   "execution_count": 1,
   "metadata": {},
   "outputs": [],
   "source": [
    "# initialize the imports\n",
    "import scipy.stats as stats\n",
    "from scipy.stats import t\n",
    "import seaborn as sns\n",
    "import matplotlib.pyplot as plt\n",
    "import pandas as pd\n",
    "from pandas.io import sql\n",
    "import sqlite3\n",
    "\n",
    "\n",
    "sns.set_style('whitegrid')\n",
    "\n",
    "%config InlineBackend.figure_format = 'retina'\n",
    "%matplotlib inline"
   ]
  },
  {
   "cell_type": "code",
   "execution_count": 2,
   "metadata": {},
   "outputs": [],
   "source": [
    "# initialize the imports\n",
    "import sqlite3\n",
    "sqlite_db = './openlib.db'\n",
    "conn = sqlite3.connect(sqlite_db) \n",
    "c = conn.cursor()"
   ]
  },
  {
   "cell_type": "code",
   "execution_count": 3,
   "metadata": {},
   "outputs": [],
   "source": [
    "# In case typing out `sql.read_sql()` is a little too much, create a function shortcut.\n",
    "\n",
    "c = sqlite3.connect('./openlib.db')\n",
    "\n",
    "def Q(query, db=c):\n",
    "    return sql.read_sql(query, db)"
   ]
  },
  {
   "cell_type": "code",
   "execution_count": 4,
   "metadata": {},
   "outputs": [],
   "source": [
    "# initialize the imports\n",
    "import numpy as np\n",
    "import scipy as sp\n",
    "from sklearn.model_selection import train_test_split\n",
    "from sklearn.feature_extraction.text import CountVectorizer, TfidfVectorizer\n",
    "from sklearn.naive_bayes import MultinomialNB\n",
    "from sklearn.linear_model import LogisticRegression\n",
    "from sklearn import metrics\n",
    "from textblob import TextBlob, Word\n",
    "from nltk.stem.snowball import SnowballStemmer\n",
    "%matplotlib inline"
   ]
  },
  {
   "cell_type": "markdown",
   "metadata": {},
   "source": [
    "## Reading the review table"
   ]
  },
  {
   "cell_type": "code",
   "execution_count": 5,
   "metadata": {},
   "outputs": [
    {
     "data": {
      "text/html": [
       "<div>\n",
       "<style scoped>\n",
       "    .dataframe tbody tr th:only-of-type {\n",
       "        vertical-align: middle;\n",
       "    }\n",
       "\n",
       "    .dataframe tbody tr th {\n",
       "        vertical-align: top;\n",
       "    }\n",
       "\n",
       "    .dataframe thead th {\n",
       "        text-align: right;\n",
       "    }\n",
       "</style>\n",
       "<table border=\"1\" class=\"dataframe\">\n",
       "  <thead>\n",
       "    <tr style=\"text-align: right;\">\n",
       "      <th></th>\n",
       "      <th>review</th>\n",
       "    </tr>\n",
       "  </thead>\n",
       "  <tbody>\n",
       "    <tr>\n",
       "      <th>0</th>\n",
       "      <td>\\nO.P.\\n...home.\\nMy dad, he is almost 81 and ...</td>\n",
       "    </tr>\n",
       "    <tr>\n",
       "      <th>1</th>\n",
       "      <td>NA</td>\n",
       "    </tr>\n",
       "    <tr>\n",
       "      <th>2</th>\n",
       "      <td>\\nYou are not a bad person, it's all part of a...</td>\n",
       "    </tr>\n",
       "    <tr>\n",
       "      <th>3</th>\n",
       "      <td>\\ncrunchyone writes...\\nLately, and please don...</td>\n",
       "    </tr>\n",
       "    <tr>\n",
       "      <th>4</th>\n",
       "      <td>\\npeople have the wrong idea about nursing hom...</td>\n",
       "    </tr>\n",
       "  </tbody>\n",
       "</table>\n",
       "</div>"
      ],
      "text/plain": [
       "                                              review\n",
       "0  \\nO.P.\\n...home.\\nMy dad, he is almost 81 and ...\n",
       "1                                                 NA\n",
       "2  \\nYou are not a bad person, it's all part of a...\n",
       "3  \\ncrunchyone writes...\\nLately, and please don...\n",
       "4  \\npeople have the wrong idea about nursing hom..."
      ]
     },
     "execution_count": 5,
     "metadata": {},
     "output_type": "execute_result"
    }
   ],
   "source": [
    "# Select the reviews from the scraping\n",
    "SQL_STRING = '''\n",
    "\n",
    "SELECT *\n",
    "FROM review\n",
    "'''\n",
    "review= pd.read_sql(SQL_STRING, con=conn)\n",
    "review.head()"
   ]
  },
  {
   "cell_type": "code",
   "execution_count": null,
   "metadata": {},
   "outputs": [],
   "source": []
  },
  {
   "cell_type": "markdown",
   "metadata": {},
   "source": [
    "## Apply Textblob and Sentiment Analysis\n",
    "* Convert reviews to Textblob and extract sentiment"
   ]
  },
  {
   "cell_type": "code",
   "execution_count": 6,
   "metadata": {},
   "outputs": [],
   "source": [
    "# Calculate the sentiment for every review in the full dataset as a new column.\n",
    "# Define a function that accepts text and returns the polarity\n",
    "review[['polarity', 'subjectivity']] = review['review'].apply(lambda r: pd.Series(TextBlob(r).sentiment))"
   ]
  },
  {
   "cell_type": "code",
   "execution_count": 7,
   "metadata": {},
   "outputs": [],
   "source": [
    "# Determine the polarity for the whole dataframe\n",
    "# Define the function\n",
    "def analize_sentiment(review):\n",
    "    '''\n",
    "    Utility function to classify the polarity of a \n",
    "    using textblob.\n",
    "    '''\n",
    "    analysis = TextBlob(review)\n",
    "    if analysis.sentiment.polarity > 0:\n",
    "        return 1\n",
    "    elif analysis.sentiment.polarity == 0:\n",
    "        return 0\n",
    "    else:\n",
    "        return -1"
   ]
  },
  {
   "cell_type": "code",
   "execution_count": 8,
   "metadata": {},
   "outputs": [
    {
     "data": {
      "text/html": [
       "<div>\n",
       "<style scoped>\n",
       "    .dataframe tbody tr th:only-of-type {\n",
       "        vertical-align: middle;\n",
       "    }\n",
       "\n",
       "    .dataframe tbody tr th {\n",
       "        vertical-align: top;\n",
       "    }\n",
       "\n",
       "    .dataframe thead th {\n",
       "        text-align: right;\n",
       "    }\n",
       "</style>\n",
       "<table border=\"1\" class=\"dataframe\">\n",
       "  <thead>\n",
       "    <tr style=\"text-align: right;\">\n",
       "      <th></th>\n",
       "      <th>review</th>\n",
       "      <th>polarity</th>\n",
       "      <th>subjectivity</th>\n",
       "      <th>sent_score</th>\n",
       "    </tr>\n",
       "  </thead>\n",
       "  <tbody>\n",
       "    <tr>\n",
       "      <th>0</th>\n",
       "      <td>\\nO.P.\\n...home.\\nMy dad, he is almost 81 and ...</td>\n",
       "      <td>-0.036222</td>\n",
       "      <td>0.608725</td>\n",
       "      <td>-1</td>\n",
       "    </tr>\n",
       "    <tr>\n",
       "      <th>1</th>\n",
       "      <td>NA</td>\n",
       "      <td>0.000000</td>\n",
       "      <td>0.000000</td>\n",
       "      <td>0</td>\n",
       "    </tr>\n",
       "    <tr>\n",
       "      <th>2</th>\n",
       "      <td>\\nYou are not a bad person, it's all part of a...</td>\n",
       "      <td>0.158333</td>\n",
       "      <td>0.647222</td>\n",
       "      <td>1</td>\n",
       "    </tr>\n",
       "    <tr>\n",
       "      <th>3</th>\n",
       "      <td>\\ncrunchyone writes...\\nLately, and please don...</td>\n",
       "      <td>-0.215000</td>\n",
       "      <td>0.525000</td>\n",
       "      <td>-1</td>\n",
       "    </tr>\n",
       "    <tr>\n",
       "      <th>4</th>\n",
       "      <td>\\npeople have the wrong idea about nursing hom...</td>\n",
       "      <td>0.150000</td>\n",
       "      <td>0.539247</td>\n",
       "      <td>1</td>\n",
       "    </tr>\n",
       "  </tbody>\n",
       "</table>\n",
       "</div>"
      ],
      "text/plain": [
       "                                              review  polarity  subjectivity  \\\n",
       "0  \\nO.P.\\n...home.\\nMy dad, he is almost 81 and ... -0.036222      0.608725   \n",
       "1                                                 NA  0.000000      0.000000   \n",
       "2  \\nYou are not a bad person, it's all part of a...  0.158333      0.647222   \n",
       "3  \\ncrunchyone writes...\\nLately, and please don... -0.215000      0.525000   \n",
       "4  \\npeople have the wrong idea about nursing hom...  0.150000      0.539247   \n",
       "\n",
       "   sent_score  \n",
       "0          -1  \n",
       "1           0  \n",
       "2           1  \n",
       "3          -1  \n",
       "4           1  "
      ]
     },
     "metadata": {},
     "output_type": "display_data"
    }
   ],
   "source": [
    "# We create a column with the result of the analysis:\n",
    "review['sent_score'] = np.array([analize_sentiment(review) for review in review['review'] ])\n",
    "\n",
    "# We display the updated dataframe with the new column:\n",
    "display(review.head())"
   ]
  },
  {
   "cell_type": "code",
   "execution_count": 9,
   "metadata": {},
   "outputs": [],
   "source": [
    "# We construct lists with classified reviews:\n",
    "\n",
    "happy = [ sa for index, sa in enumerate(review['review']) if review['sent_score'][index] > 0]\n",
    "neutral = [sa for index, sa in enumerate(review['review']) if review['sent_score'][index] == 0]\n",
    "sad = [ sa for index, sa in enumerate(review['review']) if review['sent_score'][index] < 0]"
   ]
  },
  {
   "cell_type": "code",
   "execution_count": 10,
   "metadata": {},
   "outputs": [
    {
     "name": "stdout",
     "output_type": "stream",
     "text": [
      "Percentage of positive: 67.42424242424242%\n",
      "Percentage of neutral: 8.333333333333334%\n",
      "Percentage of negative: 24.242424242424242%\n"
     ]
    }
   ],
   "source": [
    "# We print percentages:\n",
    "\n",
    "print(\"Percentage of positive: {}%\".format(len(happy)*100/len(review['review'])))\n",
    "print(\"Percentage of neutral: {}%\".format(len(neutral)*100/len(review['review'])))\n",
    "print(\"Percentage of negative: {}%\".format(len(sad)*100/len(review['review'])))\n",
    "\n",
    "# Indicates the reviews are more positive than negative considering it is about aged care"
   ]
  },
  {
   "cell_type": "code",
   "execution_count": 11,
   "metadata": {},
   "outputs": [
    {
     "data": {
      "text/plain": [
       "Index(['review', 'polarity', 'subjectivity', 'sent_score'], dtype='object')"
      ]
     },
     "execution_count": 11,
     "metadata": {},
     "output_type": "execute_result"
    }
   ],
   "source": [
    "# review the columns\n",
    "review.columns"
   ]
  },
  {
   "cell_type": "code",
   "execution_count": 12,
   "metadata": {},
   "outputs": [
    {
     "data": {
      "text/plain": [
       "<matplotlib.axes._subplots.AxesSubplot at 0x22d727ce0f0>"
      ]
     },
     "execution_count": 12,
     "metadata": {},
     "output_type": "execute_result"
    },
    {
     "data": {
      "image/png": "[encoded data removed]",
      "text/plain": [
       "<matplotlib.figure.Figure at 0x22d727ce6a0>"
      ]
     },
     "metadata": {
      "image/png": {
       "height": 399,
       "width": 498
      }
     },
     "output_type": "display_data"
    }
   ],
   "source": [
    "# Create a boxplot of sentiment by score rating\n",
    "# box plot of sentiment grouped by score\n",
    "review.boxplot(column='polarity', by='sent_score',figsize=(8,6))"
   ]
  },
  {
   "cell_type": "code",
   "execution_count": 13,
   "metadata": {},
   "outputs": [
    {
     "data": {
      "text/plain": [
       "1                                                   NA\n",
       "2    \\nYou are not a bad person, it's all part of a...\n",
       "4    \\npeople have the wrong idea about nursing hom...\n",
       "5    \\nAnother thing to remember, if your folks are...\n",
       "6    \\nVery hard situation.\\nMaybe if you can get a...\n",
       "Name: review, dtype: object"
      ]
     },
     "execution_count": 13,
     "metadata": {},
     "output_type": "execute_result"
    }
   ],
   "source": [
    "# Print reviews with the highest and lowest sentiment.\n",
    "# reviews with most positive sentiment\n",
    "review[review.polarity >= 0].review.head()"
   ]
  },
  {
   "cell_type": "code",
   "execution_count": 14,
   "metadata": {},
   "outputs": [
    {
     "data": {
      "text/plain": [
       "0     \\nO.P.\\n...home.\\nMy dad, he is almost 81 and ...\n",
       "3     \\ncrunchyone writes...\\nLately, and please don...\n",
       "9     \\nSorry, I have no words of wisdom or advice b...\n",
       "11    \\nCan your parents afford in home care? we put...\n",
       "17    \\nNo need to feel guilty about it at all every...\n",
       "Name: review, dtype: object"
      ]
     },
     "execution_count": 14,
     "metadata": {},
     "output_type": "execute_result"
    }
   ],
   "source": [
    "# reviews with most negative sentiment\n",
    "review[review.polarity < 0].review.head()"
   ]
  },
  {
   "cell_type": "markdown",
   "metadata": {},
   "source": [
    "## Subset the reviews"
   ]
  },
  {
   "cell_type": "code",
   "execution_count": 15,
   "metadata": {},
   "outputs": [],
   "source": [
    "# define X and y\n",
    "X = review.review\n",
    "y = review.sent_score\n",
    "\n",
    "# split the new DataFrame into training and testing sets\n",
    "X_train, X_test, y_train, y_test = train_test_split(X, y, random_state=1)"
   ]
  },
  {
   "cell_type": "code",
   "execution_count": 16,
   "metadata": {},
   "outputs": [
    {
     "name": "stdout",
     "output_type": "stream",
     "text": [
      "99\n",
      "33\n"
     ]
    }
   ],
   "source": [
    "print(len(X_train))\n",
    "print(len(X_test))"
   ]
  },
  {
   "cell_type": "markdown",
   "metadata": {},
   "source": [
    "## Using TF-IDF to Summarize Reviews\n",
    "* What: Computes \"relative frequency\" that a word appears in a document compared to its frequency across all documents\n",
    "* Why: More useful than \"term frequency\" for identifying \"important\" words in each document (high frequency in that document, low frequency in other documents)\n",
    "* Notes: Used for search engine scoring, text summarization, document clustering\n",
    "\n",
    "* Build a simple TF-IDF using CountVectorizer\n",
    "    * Term Frequency can be calulated with default CountVectorizer.\n",
    "    * Inverse Document Frequency can be calculated with CountVectorizer and argument binary=True."
   ]
  },
  {
   "cell_type": "code",
   "execution_count": 17,
   "metadata": {},
   "outputs": [],
   "source": [
    "# Apply stop words\n",
    "from sklearn.feature_extraction.text import ENGLISH_STOP_WORDS\n",
    "\n",
    "custom_stop_words = list(ENGLISH_STOP_WORDS)\n",
    "\n",
    "# You can of course add your own custom stopwords\n",
    "custom_stop_words.append('NA')"
   ]
  },
  {
   "cell_type": "code",
   "execution_count": 18,
   "metadata": {},
   "outputs": [],
   "source": [
    "# Define a function for the TfidfVectorizer\n",
    "def tokens(x):\n",
    "    return x.split(',')"
   ]
  },
  {
   "cell_type": "code",
   "execution_count": 19,
   "metadata": {},
   "outputs": [],
   "source": [
    "# Build a TF-IDF predictor matrix excluding stopwords with TfidfVectorizer\n",
    "\n",
    "tfidf_vect= TfidfVectorizer(tokenizer=tokens ,use_idf=True, smooth_idf=True, sublinear_tf=False,stop_words=custom_stop_words,ngram_range=(1, 2))"
   ]
  },
  {
   "cell_type": "code",
   "execution_count": 20,
   "metadata": {},
   "outputs": [
    {
     "data": {
      "text/plain": [
       "(99, 969)"
      ]
     },
     "execution_count": 20,
     "metadata": {},
     "output_type": "execute_result"
    }
   ],
   "source": [
    "# create a document-term matrix using TF-IDF\n",
    "X_train_dtm=tfidf_vect.fit_transform(X_train)\n",
    "X_test_dtm =tfidf_vect.transform(X_test)\n",
    "features=tfidf_vect.get_feature_names()\n",
    "X_train_dtm.shape"
   ]
  },
  {
   "cell_type": "code",
   "execution_count": 21,
   "metadata": {},
   "outputs": [],
   "source": [
    "#print(tfidf_vect.get_feature_names()[-50:])"
   ]
  },
  {
   "cell_type": "code",
   "execution_count": 22,
   "metadata": {},
   "outputs": [
    {
     "data": {
      "text/plain": [
       "TfidfVectorizer(analyzer='word', binary=False, decode_error='strict',\n",
       "        dtype=<class 'numpy.int64'>, encoding='utf-8', input='content',\n",
       "        lowercase=True, max_df=1.0, max_features=None, min_df=1,\n",
       "        ngram_range=(1, 2), norm='l2', preprocessor=None, smooth_idf=True,\n",
       "        stop_words=['again', 'although', 'why', 'while', 'except', 'ten', 'whereafter', 'will', 'top', 'cry', 'nothing', 'thence', 'thru', 'de', 'latter', 'until', 'us', 'also', 'not', 'or', 'his', 'six', 'an', 'as', 'twelve', 'forty', 'himself', 'how', 'rather', 'here', 'she', 'so', 'been', 'through', 'can..., 'same', 'first', 'in', 'fifteen', 'such', 'him', 'many', 'whereby', 'those', 'give', 'next', 'NA'],\n",
       "        strip_accents=None, sublinear_tf=False,\n",
       "        token_pattern='(?u)\\\\b\\\\w\\\\w+\\\\b',\n",
       "        tokenizer=<function tokens at 0x0000022D72569BF8>, use_idf=True,\n",
       "        vocabulary=None)"
      ]
     },
     "execution_count": 22,
     "metadata": {},
     "output_type": "execute_result"
    }
   ],
   "source": [
    "# show vectorizer options\n",
    "tfidf_vect"
   ]
  },
  {
   "cell_type": "markdown",
   "metadata": {},
   "source": [
    "## Predict the sentiment score with the features from TfidfVectorizer.\n",
    "Validate on the test set."
   ]
  },
  {
   "cell_type": "code",
   "execution_count": 23,
   "metadata": {},
   "outputs": [
    {
     "name": "stdout",
     "output_type": "stream",
     "text": [
      "0.7272727272727273\n"
     ]
    }
   ],
   "source": [
    "# use Naive Bayes  to predict the sentiment score\n",
    "nb = MultinomialNB()\n",
    "nb.fit(X_train_dtm, y_train)\n",
    "y_pred_class = nb.predict(X_test_dtm)\n",
    "\n",
    "# calculate accuracy\n",
    "print(metrics.accuracy_score(y_test, y_pred_class))"
   ]
  },
  {
   "cell_type": "code",
   "execution_count": 24,
   "metadata": {},
   "outputs": [
    {
     "data": {
      "text/plain": [
       "1.0"
      ]
     },
     "execution_count": 24,
     "metadata": {},
     "output_type": "execute_result"
    }
   ],
   "source": [
    "# calculate null accuracy\n",
    "y_test_binary = np.where(y_test==5, 1, 0)\n",
    "max(y_test_binary.mean(), 1 - y_test_binary.mean())"
   ]
  },
  {
   "cell_type": "code",
   "execution_count": 25,
   "metadata": {},
   "outputs": [],
   "source": [
    "# define a function that accepts a vectorizer and calculates the accuracy\n",
    "def tokenize_test(tfidf_vect):\n",
    "    X_train_dtm = tfidf_vect.fit_transform(X_train)\n",
    "    print('Features: ', X_train_dtm.shape[1])\n",
    "    X_test_dtm = tfidf_vect.transform(X_test)\n",
    "    nb = MultinomialNB()\n",
    "    nb.fit(X_train_dtm, y_train)\n",
    "    y_pred_class = nb.predict(X_test_dtm)\n",
    "    print('Accuracy: ', metrics.accuracy_score(y_test, y_pred_class))"
   ]
  },
  {
   "cell_type": "code",
   "execution_count": 26,
   "metadata": {},
   "outputs": [
    {
     "name": "stdout",
     "output_type": "stream",
     "text": [
      "Features:  969\n",
      "Accuracy:  0.7272727272727273\n"
     ]
    }
   ],
   "source": [
    "# print\n",
    "tokenize_test(tfidf_vect)\n",
    "## The accuracy of 0.72 confirms that the sentiments about aged care is more positive"
   ]
  }
 ],
 "metadata": {
  "kernelspec": {
   "display_name": "Python 3",
   "language": "python",
   "name": "python3"
  },
  "language_info": {
   "codemirror_mode": {
    "name": "ipython",
    "version": 3
   },
   "file_extension": ".py",
   "mimetype": "text/x-python",
   "name": "python",
   "nbconvert_exporter": "python",
   "pygments_lexer": "ipython3",
   "version": "3.6.4"
  }
 },
 "nbformat": 4,
 "nbformat_minor": 2
}
