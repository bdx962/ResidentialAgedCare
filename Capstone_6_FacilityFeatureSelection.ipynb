{
 "cells": [
  {
   "cell_type": "markdown",
   "metadata": {},
   "source": [
    "# Requirements\n",
    "* 1.Walk through your model step by step, starting with EDA\n",
    "    * What are your variables of interest?\n",
    "    * What outliers did you remove?\n",
    "    * What types of data imputation did you perform?\n",
    " \n",
    "* 2.Summarize your statistical analysis, including:\n",
    "    * model selection\n",
    "    * implementation\n",
    "    * evaluation\n",
    "    * inference"
   ]
  },
  {
   "attachments": {},
   "cell_type": "markdown",
   "metadata": {},
   "source": [
    "# Identifying the best features for a new residential aged care facility due to future insufficiency\n",
    "\n",
    "###  Assumptions:\n",
    "* Future residential beds are based on the level of occupancy against the population of people who are 65 years old and over\n",
    "* All factors related to the care of the elderly are sufficient and remains constant. An example is the staff to patient ratios. \n",
    "* The location of the residential aged care facility may not be the location where a person has lived most of their life. An example would be a person entering residential aged care facility that is located where his/ her children are currently residing. \n",
    "* The government funding provided for each residential aged care facility in 2017 does not require adjustment\n",
    "* The estimated population will have a high fertility rate ie: A_65\n",
    "\n",
    "\n",
    "### Variables of interest\n",
    "* Australian Government Funding\n",
    "* Longitude and Latitute of each residential aged care facility\n",
    "* Residential - places offered in each each residential aged care facility\n",
    "* Using distance as a measure to create the key location feature. As such, distances are calculated from  the key location to each residential aged care facility\n",
    "    * Longitude and Latitude of Prince of Wales Hospital (Ranwick) - (151.2387, -33.9190)\n",
    "    * Longitude and Latitude of Bondi Beach - (151.274292, -33.89084)\n",
    "       \n",
    "\n",
    "### Outliers\n",
    "* The population data used is not granular. As such, it it assumed there is no outliners.\n",
    "* However, the location of each residential aged care facility was uploaded into Tableau to view the density of its positions. From here it was discovered that 2 facilities lies in the middle of the ocean. This is considered to be an outliner. However, since it was only 2 facilities, a decision was made to ignore the outliers as it has nominal impact on the models. \n",
    "\n",
    "\n",
    "### Data Imputation\n",
    "* No data imputation was required. Although the sample size was small, a prediction was possible\n",
    "\n",
    "### EDA\n",
    "* Check correlation of the distances and found that all the distances are highly correlated. This is due to the fact that the distance is calculated using the longitude and latitute of each residential aged care facility\n",
    "\n",
    "### Models used:\n",
    "* Since the target (Australian Government Funding) is continous, the following models were used: \n",
    "    •\tLogistic Regression – 97%\n",
    "    •\tK Nearest Neighbours (KNN) – 65.61%\n",
    "    •\tGridSearch – 97.42%\n",
    "    •\tSupport Vector Machine (SVM) – 97.52% \n",
    "\n",
    "* Main coefficient identified was places in residential aged care\n",
    "\n",
    "### Why these modesl?\n",
    "   * K Nearest Neighbours (KNN) – 65.61%\n",
    "        * simple algorithm\n",
    "        * stores all available cases and classifies new cases based on a similarity measure (e.g., distance functions)\n",
    "        * is automatically non-linear\n",
    "        * detect linear or non-linear distributed data\n",
    "        * BUT sensitive to outliers – knn score of 65.61% is the lowest of all models\n",
    "   \n",
    "   * Support Vector Machine (SVM) – 97.52% \n",
    "   \n",
    "        * uses a technique called the kernel trick to transform data and finds an optimal boundary between the possible outputs\n",
    "        * SVM is good with outliers as it uses the most relevant points to find a linear separation – svm score of 97.52% is the highest of all models\n",
    "        * But processing svm is slow\n",
    "\n",
    "### Inference/ Result\n",
    "\n",
    "* The results suggested the level of government funding is influenced by the number of places in a residential aged care rather than the distance to the hospital and the beach. This is seen by the scores above. \n",
    "\n",
    "### Next Steps\n",
    "* Determine if location affluence and private individual cost of entering a residential aged care impacts government funding received\n",
    "* Sentiments on individual residential aged care facility – difficult as there is insufficient online data"
   ]
  },
  {
   "cell_type": "markdown",
   "metadata": {},
   "source": [
    "## Further EDA\n",
    "\n",
    "#### R2  is a measure of how much variance in the target/dependent variable is explained by our predictor variables."
   ]
  },
  {
   "cell_type": "code",
   "execution_count": 3,
   "metadata": {},
   "outputs": [],
   "source": [
    "# Initialize imports\n",
    "import numpy as np\n",
    "import scipy.stats as stats\n",
    "from scipy.stats import t\n",
    "import seaborn as sns\n",
    "import matplotlib.pyplot as plt\n",
    "import pandas as pd\n",
    "from pandas.io import sql\n",
    "import sqlite3\n",
    "import patsy\n",
    "\n",
    "sns.set_style('whitegrid')\n",
    "\n",
    "%config InlineBackend.figure_format = 'retina'\n",
    "%matplotlib inline"
   ]
  },
  {
   "cell_type": "code",
   "execution_count": 4,
   "metadata": {},
   "outputs": [],
   "source": [
    "# Initialize imports\n",
    "from sklearn import cluster, metrics\n",
    "import matplotlib\n",
    "matplotlib.style.use('ggplot') "
   ]
  },
  {
   "cell_type": "code",
   "execution_count": 5,
   "metadata": {},
   "outputs": [],
   "source": [
    "# Initialize imports\n",
    "import sqlite3\n",
    "sqlite_db = './openlib.db'\n",
    "conn = sqlite3.connect(sqlite_db) \n",
    "c = conn.cursor()"
   ]
  },
  {
   "cell_type": "code",
   "execution_count": 6,
   "metadata": {},
   "outputs": [],
   "source": [
    "# In case typing out `sql.read_sql()` is a little too much,# we'll create a function shortcut.\n",
    "\n",
    "c = sqlite3.connect('./openlib.db')\n",
    "\n",
    "def Q(query, db=c):\n",
    "    return sql.read_sql(query, db)"
   ]
  },
  {
   "cell_type": "code",
   "execution_count": 7,
   "metadata": {},
   "outputs": [
    {
     "data": {
      "text/html": [
       "<div>\n",
       "<style scoped>\n",
       "    .dataframe tbody tr th:only-of-type {\n",
       "        vertical-align: middle;\n",
       "    }\n",
       "\n",
       "    .dataframe tbody tr th {\n",
       "        vertical-align: top;\n",
       "    }\n",
       "\n",
       "    .dataframe thead th {\n",
       "        text-align: right;\n",
       "    }\n",
       "</style>\n",
       "<table border=\"1\" class=\"dataframe\">\n",
       "  <thead>\n",
       "    <tr style=\"text-align: right;\">\n",
       "      <th></th>\n",
       "      <th>Servicename</th>\n",
       "      <th>PhysicalAddressSuburb</th>\n",
       "      <th>Year</th>\n",
       "      <th>Residential</th>\n",
       "      <th>AustralianGovernmentFunding</th>\n",
       "      <th>Longitude</th>\n",
       "      <th>Latitude</th>\n",
       "      <th>dist_Clovelly</th>\n",
       "      <th>dist_BondiJunction</th>\n",
       "      <th>dist_Maroubra</th>\n",
       "      <th>dist_Coogee</th>\n",
       "      <th>dist_Vincent</th>\n",
       "      <th>dist_CBD</th>\n",
       "      <th>dist_Alfred</th>\n",
       "      <th>dist_Wales</th>\n",
       "      <th>dist_StGeorge</th>\n",
       "      <th>dist_Bondi</th>\n",
       "    </tr>\n",
       "  </thead>\n",
       "  <tbody>\n",
       "    <tr>\n",
       "      <th>0</th>\n",
       "      <td>St Basil's Annandale</td>\n",
       "      <td>ANNANDALE</td>\n",
       "      <td>2016-2017</td>\n",
       "      <td>83</td>\n",
       "      <td>5146461</td>\n",
       "      <td>151.172733</td>\n",
       "      <td>-33.875890</td>\n",
       "      <td>9.581138</td>\n",
       "      <td>7.306635</td>\n",
       "      <td>10.475849</td>\n",
       "      <td>9.012864</td>\n",
       "      <td>4.464116</td>\n",
       "      <td>3.631338</td>\n",
       "      <td>1.765183</td>\n",
       "      <td>7.744212</td>\n",
       "      <td>10.814297</td>\n",
       "      <td>9.515312</td>\n",
       "    </tr>\n",
       "    <tr>\n",
       "      <th>1</th>\n",
       "      <td>Macquarie Lodge Aged Care Plus Centre</td>\n",
       "      <td>ARNCLIFFE</td>\n",
       "      <td>2016-2017</td>\n",
       "      <td>130</td>\n",
       "      <td>8788135</td>\n",
       "      <td>151.134856</td>\n",
       "      <td>-33.939656</td>\n",
       "      <td>12.462862</td>\n",
       "      <td>11.870958</td>\n",
       "      <td>10.093471</td>\n",
       "      <td>11.358169</td>\n",
       "      <td>10.297439</td>\n",
       "      <td>10.792123</td>\n",
       "      <td>7.102859</td>\n",
       "      <td>9.846089</td>\n",
       "      <td>3.107814</td>\n",
       "      <td>13.956046</td>\n",
       "    </tr>\n",
       "    <tr>\n",
       "      <th>2</th>\n",
       "      <td>A H Orr Lodge</td>\n",
       "      <td>ASHFIELD</td>\n",
       "      <td>2016-2017</td>\n",
       "      <td>60</td>\n",
       "      <td>3258005</td>\n",
       "      <td>151.125841</td>\n",
       "      <td>-33.894955</td>\n",
       "      <td>13.112118</td>\n",
       "      <td>11.431866</td>\n",
       "      <td>12.443875</td>\n",
       "      <td>12.252993</td>\n",
       "      <td>8.905851</td>\n",
       "      <td>8.432963</td>\n",
       "      <td>5.270597</td>\n",
       "      <td>10.746170</td>\n",
       "      <td>8.103484</td>\n",
       "      <td>13.701145</td>\n",
       "    </tr>\n",
       "    <tr>\n",
       "      <th>3</th>\n",
       "      <td>Opal Cardinal Freeman</td>\n",
       "      <td>ASHFIELD</td>\n",
       "      <td>2016-2017</td>\n",
       "      <td>135</td>\n",
       "      <td>5584660</td>\n",
       "      <td>151.127894</td>\n",
       "      <td>-33.895950</td>\n",
       "      <td>12.908027</td>\n",
       "      <td>11.247006</td>\n",
       "      <td>12.224675</td>\n",
       "      <td>12.044253</td>\n",
       "      <td>8.740665</td>\n",
       "      <td>8.304075</td>\n",
       "      <td>5.096899</td>\n",
       "      <td>10.535436</td>\n",
       "      <td>7.978874</td>\n",
       "      <td>13.516029</td>\n",
       "    </tr>\n",
       "    <tr>\n",
       "      <th>4</th>\n",
       "      <td>Weeroona Aged Care Plus Centre</td>\n",
       "      <td>BASS HILL</td>\n",
       "      <td>2016-2017</td>\n",
       "      <td>104</td>\n",
       "      <td>7057385</td>\n",
       "      <td>151.003471</td>\n",
       "      <td>-33.899572</td>\n",
       "      <td>24.285303</td>\n",
       "      <td>22.730356</td>\n",
       "      <td>22.835483</td>\n",
       "      <td>23.343486</td>\n",
       "      <td>20.159469</td>\n",
       "      <td>19.424499</td>\n",
       "      <td>16.560951</td>\n",
       "      <td>21.801215</td>\n",
       "      <td>14.172966</td>\n",
       "      <td>24.999496</td>\n",
       "    </tr>\n",
       "  </tbody>\n",
       "</table>\n",
       "</div>"
      ],
      "text/plain": [
       "                             Servicename PhysicalAddressSuburb       Year  \\\n",
       "0                   St Basil's Annandale             ANNANDALE  2016-2017   \n",
       "1  Macquarie Lodge Aged Care Plus Centre             ARNCLIFFE  2016-2017   \n",
       "2                          A H Orr Lodge              ASHFIELD  2016-2017   \n",
       "3                  Opal Cardinal Freeman              ASHFIELD  2016-2017   \n",
       "4         Weeroona Aged Care Plus Centre             BASS HILL  2016-2017   \n",
       "\n",
       "   Residential  AustralianGovernmentFunding   Longitude   Latitude  \\\n",
       "0           83                      5146461  151.172733 -33.875890   \n",
       "1          130                      8788135  151.134856 -33.939656   \n",
       "2           60                      3258005  151.125841 -33.894955   \n",
       "3          135                      5584660  151.127894 -33.895950   \n",
       "4          104                      7057385  151.003471 -33.899572   \n",
       "\n",
       "   dist_Clovelly  dist_BondiJunction  dist_Maroubra  dist_Coogee  \\\n",
       "0       9.581138            7.306635      10.475849     9.012864   \n",
       "1      12.462862           11.870958      10.093471    11.358169   \n",
       "2      13.112118           11.431866      12.443875    12.252993   \n",
       "3      12.908027           11.247006      12.224675    12.044253   \n",
       "4      24.285303           22.730356      22.835483    23.343486   \n",
       "\n",
       "   dist_Vincent   dist_CBD  dist_Alfred  dist_Wales  dist_StGeorge  dist_Bondi  \n",
       "0      4.464116   3.631338     1.765183    7.744212      10.814297    9.515312  \n",
       "1     10.297439  10.792123     7.102859    9.846089       3.107814   13.956046  \n",
       "2      8.905851   8.432963     5.270597   10.746170       8.103484   13.701145  \n",
       "3      8.740665   8.304075     5.096899   10.535436       7.978874   13.516029  \n",
       "4     20.159469  19.424499    16.560951   21.801215      14.172966   24.999496  "
      ]
     },
     "execution_count": 7,
     "metadata": {},
     "output_type": "execute_result"
    }
   ],
   "source": [
    "# select records\n",
    "feature=Q('SELECT * FROM feature_NSW')\n",
    "feature.head()"
   ]
  },
  {
   "cell_type": "code",
   "execution_count": 8,
   "metadata": {},
   "outputs": [],
   "source": [
    "# calculate the cost per bed based on government funding and places\n",
    "p=feature.Residential\n",
    "b=feature.AustralianGovernmentFunding\n",
    "\n",
    "feature['fundperbed']=b/p"
   ]
  },
  {
   "cell_type": "code",
   "execution_count": 9,
   "metadata": {},
   "outputs": [
    {
     "name": "stdout",
     "output_type": "stream",
     "text": [
      "<class 'pandas.core.frame.DataFrame'>\n",
      "RangeIndex: 555 entries, 0 to 554\n",
      "Data columns (total 18 columns):\n",
      "Servicename                    555 non-null object\n",
      "PhysicalAddressSuburb          555 non-null object\n",
      "Year                           555 non-null object\n",
      "Residential                    555 non-null int64\n",
      "AustralianGovernmentFunding    555 non-null int64\n",
      "Longitude                      555 non-null float64\n",
      "Latitude                       555 non-null float64\n",
      "dist_Clovelly                  555 non-null float64\n",
      "dist_BondiJunction             555 non-null float64\n",
      "dist_Maroubra                  555 non-null float64\n",
      "dist_Coogee                    555 non-null float64\n",
      "dist_Vincent                   555 non-null float64\n",
      "dist_CBD                       555 non-null float64\n",
      "dist_Alfred                    555 non-null float64\n",
      "dist_Wales                     555 non-null float64\n",
      "dist_StGeorge                  555 non-null float64\n",
      "dist_Bondi                     555 non-null float64\n",
      "fundperbed                     555 non-null float64\n",
      "dtypes: float64(13), int64(2), object(3)\n",
      "memory usage: 78.1+ KB\n"
     ]
    }
   ],
   "source": [
    "# check column types\n",
    "feature.info()"
   ]
  },
  {
   "cell_type": "code",
   "execution_count": 10,
   "metadata": {},
   "outputs": [
    {
     "data": {
      "text/html": [
       "<div>\n",
       "<style scoped>\n",
       "    .dataframe tbody tr th:only-of-type {\n",
       "        vertical-align: middle;\n",
       "    }\n",
       "\n",
       "    .dataframe tbody tr th {\n",
       "        vertical-align: top;\n",
       "    }\n",
       "\n",
       "    .dataframe thead th {\n",
       "        text-align: right;\n",
       "    }\n",
       "</style>\n",
       "<table border=\"1\" class=\"dataframe\">\n",
       "  <thead>\n",
       "    <tr style=\"text-align: right;\">\n",
       "      <th></th>\n",
       "      <th>Residential</th>\n",
       "      <th>AustralianGovernmentFunding</th>\n",
       "      <th>Longitude</th>\n",
       "      <th>Latitude</th>\n",
       "      <th>dist_Clovelly</th>\n",
       "      <th>dist_BondiJunction</th>\n",
       "      <th>dist_Maroubra</th>\n",
       "      <th>dist_Coogee</th>\n",
       "      <th>dist_Vincent</th>\n",
       "      <th>dist_CBD</th>\n",
       "      <th>dist_Alfred</th>\n",
       "      <th>dist_Wales</th>\n",
       "      <th>dist_StGeorge</th>\n",
       "      <th>dist_Bondi</th>\n",
       "      <th>fundperbed</th>\n",
       "    </tr>\n",
       "  </thead>\n",
       "  <tbody>\n",
       "    <tr>\n",
       "      <th>count</th>\n",
       "      <td>555.000000</td>\n",
       "      <td>5.550000e+02</td>\n",
       "      <td>555.000000</td>\n",
       "      <td>555.000000</td>\n",
       "      <td>555.000000</td>\n",
       "      <td>555.000000</td>\n",
       "      <td>555.000000</td>\n",
       "      <td>555.000000</td>\n",
       "      <td>555.000000</td>\n",
       "      <td>555.000000</td>\n",
       "      <td>555.000000</td>\n",
       "      <td>555.000000</td>\n",
       "      <td>555.000000</td>\n",
       "      <td>555.000000</td>\n",
       "      <td>555.000000</td>\n",
       "    </tr>\n",
       "    <tr>\n",
       "      <th>mean</th>\n",
       "      <td>86.749550</td>\n",
       "      <td>5.019475e+06</td>\n",
       "      <td>151.191674</td>\n",
       "      <td>-33.633132</td>\n",
       "      <td>52.806083</td>\n",
       "      <td>51.234829</td>\n",
       "      <td>53.545221</td>\n",
       "      <td>52.534331</td>\n",
       "      <td>49.758634</td>\n",
       "      <td>49.053650</td>\n",
       "      <td>48.848893</td>\n",
       "      <td>51.807092</td>\n",
       "      <td>51.721704</td>\n",
       "      <td>52.405547</td>\n",
       "      <td>57872.382785</td>\n",
       "    </tr>\n",
       "    <tr>\n",
       "      <th>std</th>\n",
       "      <td>44.527609</td>\n",
       "      <td>2.819397e+06</td>\n",
       "      <td>0.444385</td>\n",
       "      <td>0.883420</td>\n",
       "      <td>97.990889</td>\n",
       "      <td>97.991069</td>\n",
       "      <td>98.824858</td>\n",
       "      <td>98.275300</td>\n",
       "      <td>98.306091</td>\n",
       "      <td>98.180648</td>\n",
       "      <td>99.024913</td>\n",
       "      <td>98.586449</td>\n",
       "      <td>100.585113</td>\n",
       "      <td>97.493680</td>\n",
       "      <td>14028.521859</td>\n",
       "    </tr>\n",
       "    <tr>\n",
       "      <th>min</th>\n",
       "      <td>11.000000</td>\n",
       "      <td>4.587600e+05</td>\n",
       "      <td>149.229375</td>\n",
       "      <td>-35.348045</td>\n",
       "      <td>1.227886</td>\n",
       "      <td>0.645431</td>\n",
       "      <td>0.865445</td>\n",
       "      <td>1.074084</td>\n",
       "      <td>0.518030</td>\n",
       "      <td>1.223988</td>\n",
       "      <td>1.417980</td>\n",
       "      <td>0.475197</td>\n",
       "      <td>0.421233</td>\n",
       "      <td>0.591874</td>\n",
       "      <td>3823.000000</td>\n",
       "    </tr>\n",
       "    <tr>\n",
       "      <th>25%</th>\n",
       "      <td>54.500000</td>\n",
       "      <td>2.891110e+06</td>\n",
       "      <td>151.010204</td>\n",
       "      <td>-33.915738</td>\n",
       "      <td>15.526749</td>\n",
       "      <td>14.043221</td>\n",
       "      <td>15.696141</td>\n",
       "      <td>15.109003</td>\n",
       "      <td>12.178929</td>\n",
       "      <td>11.526934</td>\n",
       "      <td>10.240175</td>\n",
       "      <td>13.911661</td>\n",
       "      <td>12.078691</td>\n",
       "      <td>15.715542</td>\n",
       "      <td>51136.280898</td>\n",
       "    </tr>\n",
       "    <tr>\n",
       "      <th>50%</th>\n",
       "      <td>76.000000</td>\n",
       "      <td>4.477122e+06</td>\n",
       "      <td>151.126322</td>\n",
       "      <td>-33.818408</td>\n",
       "      <td>26.350204</td>\n",
       "      <td>23.776747</td>\n",
       "      <td>27.513664</td>\n",
       "      <td>26.311645</td>\n",
       "      <td>21.900933</td>\n",
       "      <td>21.112537</td>\n",
       "      <td>20.168475</td>\n",
       "      <td>25.404286</td>\n",
       "      <td>23.563997</td>\n",
       "      <td>25.167590</td>\n",
       "      <td>59924.500000</td>\n",
       "    </tr>\n",
       "    <tr>\n",
       "      <th>75%</th>\n",
       "      <td>111.000000</td>\n",
       "      <td>6.730514e+06</td>\n",
       "      <td>151.263355</td>\n",
       "      <td>-33.698911</td>\n",
       "      <td>56.793105</td>\n",
       "      <td>56.088617</td>\n",
       "      <td>58.132900</td>\n",
       "      <td>57.163940</td>\n",
       "      <td>53.909223</td>\n",
       "      <td>52.544123</td>\n",
       "      <td>53.567347</td>\n",
       "      <td>56.302747</td>\n",
       "      <td>55.622739</td>\n",
       "      <td>57.315148</td>\n",
       "      <td>67045.112857</td>\n",
       "    </tr>\n",
       "    <tr>\n",
       "      <th>max</th>\n",
       "      <td>356.000000</td>\n",
       "      <td>2.180952e+07</td>\n",
       "      <td>153.570166</td>\n",
       "      <td>-28.175321</td>\n",
       "      <td>673.446659</td>\n",
       "      <td>671.651647</td>\n",
       "      <td>677.922011</td>\n",
       "      <td>674.363842</td>\n",
       "      <td>671.410625</td>\n",
       "      <td>670.148629</td>\n",
       "      <td>673.554756</td>\n",
       "      <td>674.881336</td>\n",
       "      <td>683.262727</td>\n",
       "      <td>670.836357</td>\n",
       "      <td>86986.239130</td>\n",
       "    </tr>\n",
       "  </tbody>\n",
       "</table>\n",
       "</div>"
      ],
      "text/plain": [
       "       Residential  AustralianGovernmentFunding   Longitude    Latitude  \\\n",
       "count   555.000000                 5.550000e+02  555.000000  555.000000   \n",
       "mean     86.749550                 5.019475e+06  151.191674  -33.633132   \n",
       "std      44.527609                 2.819397e+06    0.444385    0.883420   \n",
       "min      11.000000                 4.587600e+05  149.229375  -35.348045   \n",
       "25%      54.500000                 2.891110e+06  151.010204  -33.915738   \n",
       "50%      76.000000                 4.477122e+06  151.126322  -33.818408   \n",
       "75%     111.000000                 6.730514e+06  151.263355  -33.698911   \n",
       "max     356.000000                 2.180952e+07  153.570166  -28.175321   \n",
       "\n",
       "       dist_Clovelly  dist_BondiJunction  dist_Maroubra  dist_Coogee  \\\n",
       "count     555.000000          555.000000     555.000000   555.000000   \n",
       "mean       52.806083           51.234829      53.545221    52.534331   \n",
       "std        97.990889           97.991069      98.824858    98.275300   \n",
       "min         1.227886            0.645431       0.865445     1.074084   \n",
       "25%        15.526749           14.043221      15.696141    15.109003   \n",
       "50%        26.350204           23.776747      27.513664    26.311645   \n",
       "75%        56.793105           56.088617      58.132900    57.163940   \n",
       "max       673.446659          671.651647     677.922011   674.363842   \n",
       "\n",
       "       dist_Vincent    dist_CBD  dist_Alfred  dist_Wales  dist_StGeorge  \\\n",
       "count    555.000000  555.000000   555.000000  555.000000     555.000000   \n",
       "mean      49.758634   49.053650    48.848893   51.807092      51.721704   \n",
       "std       98.306091   98.180648    99.024913   98.586449     100.585113   \n",
       "min        0.518030    1.223988     1.417980    0.475197       0.421233   \n",
       "25%       12.178929   11.526934    10.240175   13.911661      12.078691   \n",
       "50%       21.900933   21.112537    20.168475   25.404286      23.563997   \n",
       "75%       53.909223   52.544123    53.567347   56.302747      55.622739   \n",
       "max      671.410625  670.148629   673.554756  674.881336     683.262727   \n",
       "\n",
       "       dist_Bondi    fundperbed  \n",
       "count  555.000000    555.000000  \n",
       "mean    52.405547  57872.382785  \n",
       "std     97.493680  14028.521859  \n",
       "min      0.591874   3823.000000  \n",
       "25%     15.715542  51136.280898  \n",
       "50%     25.167590  59924.500000  \n",
       "75%     57.315148  67045.112857  \n",
       "max    670.836357  86986.239130  "
      ]
     },
     "execution_count": 10,
     "metadata": {},
     "output_type": "execute_result"
    }
   ],
   "source": [
    "# check columns\n",
    "feature.describe()"
   ]
  },
  {
   "cell_type": "code",
   "execution_count": 11,
   "metadata": {},
   "outputs": [
    {
     "data": {
      "text/html": [
       "<div>\n",
       "<style scoped>\n",
       "    .dataframe tbody tr th:only-of-type {\n",
       "        vertical-align: middle;\n",
       "    }\n",
       "\n",
       "    .dataframe tbody tr th {\n",
       "        vertical-align: top;\n",
       "    }\n",
       "\n",
       "    .dataframe thead th {\n",
       "        text-align: right;\n",
       "    }\n",
       "</style>\n",
       "<table border=\"1\" class=\"dataframe\">\n",
       "  <thead>\n",
       "    <tr style=\"text-align: right;\">\n",
       "      <th></th>\n",
       "      <th>Servicename</th>\n",
       "      <th>PhysicalAddressSuburb</th>\n",
       "      <th>Year</th>\n",
       "      <th>Residential</th>\n",
       "      <th>AustralianGovernmentFunding</th>\n",
       "      <th>Longitude</th>\n",
       "      <th>Latitude</th>\n",
       "      <th>dist_Clovelly</th>\n",
       "      <th>dist_BondiJunction</th>\n",
       "      <th>dist_Maroubra</th>\n",
       "      <th>dist_Coogee</th>\n",
       "      <th>dist_Vincent</th>\n",
       "      <th>dist_CBD</th>\n",
       "      <th>dist_Alfred</th>\n",
       "      <th>dist_Wales</th>\n",
       "      <th>dist_StGeorge</th>\n",
       "      <th>dist_Bondi</th>\n",
       "      <th>fundperbed</th>\n",
       "    </tr>\n",
       "  </thead>\n",
       "  <tbody>\n",
       "    <tr>\n",
       "      <th>0</th>\n",
       "      <td>St Basil's Annandale</td>\n",
       "      <td>ANNANDALE</td>\n",
       "      <td>2016-2017</td>\n",
       "      <td>83</td>\n",
       "      <td>5146461</td>\n",
       "      <td>151.172733</td>\n",
       "      <td>-33.875890</td>\n",
       "      <td>9.581138</td>\n",
       "      <td>7.306635</td>\n",
       "      <td>10.475849</td>\n",
       "      <td>9.012864</td>\n",
       "      <td>4.464116</td>\n",
       "      <td>3.631338</td>\n",
       "      <td>1.765183</td>\n",
       "      <td>7.744212</td>\n",
       "      <td>10.814297</td>\n",
       "      <td>9.515312</td>\n",
       "      <td>62005.554217</td>\n",
       "    </tr>\n",
       "    <tr>\n",
       "      <th>1</th>\n",
       "      <td>Macquarie Lodge Aged Care Plus Centre</td>\n",
       "      <td>ARNCLIFFE</td>\n",
       "      <td>2016-2017</td>\n",
       "      <td>130</td>\n",
       "      <td>8788135</td>\n",
       "      <td>151.134856</td>\n",
       "      <td>-33.939656</td>\n",
       "      <td>12.462862</td>\n",
       "      <td>11.870958</td>\n",
       "      <td>10.093471</td>\n",
       "      <td>11.358169</td>\n",
       "      <td>10.297439</td>\n",
       "      <td>10.792123</td>\n",
       "      <td>7.102859</td>\n",
       "      <td>9.846089</td>\n",
       "      <td>3.107814</td>\n",
       "      <td>13.956046</td>\n",
       "      <td>67601.038462</td>\n",
       "    </tr>\n",
       "    <tr>\n",
       "      <th>2</th>\n",
       "      <td>A H Orr Lodge</td>\n",
       "      <td>ASHFIELD</td>\n",
       "      <td>2016-2017</td>\n",
       "      <td>60</td>\n",
       "      <td>3258005</td>\n",
       "      <td>151.125841</td>\n",
       "      <td>-33.894955</td>\n",
       "      <td>13.112118</td>\n",
       "      <td>11.431866</td>\n",
       "      <td>12.443875</td>\n",
       "      <td>12.252993</td>\n",
       "      <td>8.905851</td>\n",
       "      <td>8.432963</td>\n",
       "      <td>5.270597</td>\n",
       "      <td>10.746170</td>\n",
       "      <td>8.103484</td>\n",
       "      <td>13.701145</td>\n",
       "      <td>54300.083333</td>\n",
       "    </tr>\n",
       "    <tr>\n",
       "      <th>3</th>\n",
       "      <td>Opal Cardinal Freeman</td>\n",
       "      <td>ASHFIELD</td>\n",
       "      <td>2016-2017</td>\n",
       "      <td>135</td>\n",
       "      <td>5584660</td>\n",
       "      <td>151.127894</td>\n",
       "      <td>-33.895950</td>\n",
       "      <td>12.908027</td>\n",
       "      <td>11.247006</td>\n",
       "      <td>12.224675</td>\n",
       "      <td>12.044253</td>\n",
       "      <td>8.740665</td>\n",
       "      <td>8.304075</td>\n",
       "      <td>5.096899</td>\n",
       "      <td>10.535436</td>\n",
       "      <td>7.978874</td>\n",
       "      <td>13.516029</td>\n",
       "      <td>41367.851852</td>\n",
       "    </tr>\n",
       "    <tr>\n",
       "      <th>4</th>\n",
       "      <td>Weeroona Aged Care Plus Centre</td>\n",
       "      <td>BASS HILL</td>\n",
       "      <td>2016-2017</td>\n",
       "      <td>104</td>\n",
       "      <td>7057385</td>\n",
       "      <td>151.003471</td>\n",
       "      <td>-33.899572</td>\n",
       "      <td>24.285303</td>\n",
       "      <td>22.730356</td>\n",
       "      <td>22.835483</td>\n",
       "      <td>23.343486</td>\n",
       "      <td>20.159469</td>\n",
       "      <td>19.424499</td>\n",
       "      <td>16.560951</td>\n",
       "      <td>21.801215</td>\n",
       "      <td>14.172966</td>\n",
       "      <td>24.999496</td>\n",
       "      <td>67859.471154</td>\n",
       "    </tr>\n",
       "  </tbody>\n",
       "</table>\n",
       "</div>"
      ],
      "text/plain": [
       "                             Servicename PhysicalAddressSuburb       Year  \\\n",
       "0                   St Basil's Annandale             ANNANDALE  2016-2017   \n",
       "1  Macquarie Lodge Aged Care Plus Centre             ARNCLIFFE  2016-2017   \n",
       "2                          A H Orr Lodge              ASHFIELD  2016-2017   \n",
       "3                  Opal Cardinal Freeman              ASHFIELD  2016-2017   \n",
       "4         Weeroona Aged Care Plus Centre             BASS HILL  2016-2017   \n",
       "\n",
       "   Residential  AustralianGovernmentFunding   Longitude   Latitude  \\\n",
       "0           83                      5146461  151.172733 -33.875890   \n",
       "1          130                      8788135  151.134856 -33.939656   \n",
       "2           60                      3258005  151.125841 -33.894955   \n",
       "3          135                      5584660  151.127894 -33.895950   \n",
       "4          104                      7057385  151.003471 -33.899572   \n",
       "\n",
       "   dist_Clovelly  dist_BondiJunction  dist_Maroubra  dist_Coogee  \\\n",
       "0       9.581138            7.306635      10.475849     9.012864   \n",
       "1      12.462862           11.870958      10.093471    11.358169   \n",
       "2      13.112118           11.431866      12.443875    12.252993   \n",
       "3      12.908027           11.247006      12.224675    12.044253   \n",
       "4      24.285303           22.730356      22.835483    23.343486   \n",
       "\n",
       "   dist_Vincent   dist_CBD  dist_Alfred  dist_Wales  dist_StGeorge  \\\n",
       "0      4.464116   3.631338     1.765183    7.744212      10.814297   \n",
       "1     10.297439  10.792123     7.102859    9.846089       3.107814   \n",
       "2      8.905851   8.432963     5.270597   10.746170       8.103484   \n",
       "3      8.740665   8.304075     5.096899   10.535436       7.978874   \n",
       "4     20.159469  19.424499    16.560951   21.801215      14.172966   \n",
       "\n",
       "   dist_Bondi    fundperbed  \n",
       "0    9.515312  62005.554217  \n",
       "1   13.956046  67601.038462  \n",
       "2   13.701145  54300.083333  \n",
       "3   13.516029  41367.851852  \n",
       "4   24.999496  67859.471154  "
      ]
     },
     "execution_count": 11,
     "metadata": {},
     "output_type": "execute_result"
    }
   ],
   "source": [
    "# check dataframes\n",
    "feature.head()"
   ]
  },
  {
   "cell_type": "code",
   "execution_count": 12,
   "metadata": {},
   "outputs": [],
   "source": [
    "# drop columns from the dataframe\n",
    "distance=feature.drop(['dist_Clovelly','dist_BondiJunction','dist_Maroubra','dist_Coogee','dist_Vincent',\n",
    "                       'dist_CBD','dist_Alfred','dist_StGeorge','PhysicalAddressSuburb','Year','AustralianGovernmentFunding',\n",
    "                       'Longitude','Latitude'],axis=1)"
   ]
  },
  {
   "cell_type": "code",
   "execution_count": 13,
   "metadata": {},
   "outputs": [],
   "source": [
    "# index the facility name\n",
    "distance.set_index('Servicename', inplace=True)"
   ]
  },
  {
   "cell_type": "code",
   "execution_count": 14,
   "metadata": {},
   "outputs": [
    {
     "data": {
      "text/html": [
       "<div>\n",
       "<style scoped>\n",
       "    .dataframe tbody tr th:only-of-type {\n",
       "        vertical-align: middle;\n",
       "    }\n",
       "\n",
       "    .dataframe tbody tr th {\n",
       "        vertical-align: top;\n",
       "    }\n",
       "\n",
       "    .dataframe thead th {\n",
       "        text-align: right;\n",
       "    }\n",
       "</style>\n",
       "<table border=\"1\" class=\"dataframe\">\n",
       "  <thead>\n",
       "    <tr style=\"text-align: right;\">\n",
       "      <th></th>\n",
       "      <th>Residential</th>\n",
       "      <th>dist_Wales</th>\n",
       "      <th>dist_Bondi</th>\n",
       "      <th>fundperbed</th>\n",
       "    </tr>\n",
       "  </thead>\n",
       "  <tbody>\n",
       "    <tr>\n",
       "      <th>Residential</th>\n",
       "      <td>1.000000</td>\n",
       "      <td>0.053896</td>\n",
       "      <td>0.057218</td>\n",
       "      <td>-0.001488</td>\n",
       "    </tr>\n",
       "    <tr>\n",
       "      <th>dist_Wales</th>\n",
       "      <td>0.053896</td>\n",
       "      <td>1.000000</td>\n",
       "      <td>0.999552</td>\n",
       "      <td>0.047779</td>\n",
       "    </tr>\n",
       "    <tr>\n",
       "      <th>dist_Bondi</th>\n",
       "      <td>0.057218</td>\n",
       "      <td>0.999552</td>\n",
       "      <td>1.000000</td>\n",
       "      <td>0.051006</td>\n",
       "    </tr>\n",
       "    <tr>\n",
       "      <th>fundperbed</th>\n",
       "      <td>-0.001488</td>\n",
       "      <td>0.047779</td>\n",
       "      <td>0.051006</td>\n",
       "      <td>1.000000</td>\n",
       "    </tr>\n",
       "  </tbody>\n",
       "</table>\n",
       "</div>"
      ],
      "text/plain": [
       "             Residential  dist_Wales  dist_Bondi  fundperbed\n",
       "Residential     1.000000    0.053896    0.057218   -0.001488\n",
       "dist_Wales      0.053896    1.000000    0.999552    0.047779\n",
       "dist_Bondi      0.057218    0.999552    1.000000    0.051006\n",
       "fundperbed     -0.001488    0.047779    0.051006    1.000000"
      ]
     },
     "execution_count": 14,
     "metadata": {},
     "output_type": "execute_result"
    }
   ],
   "source": [
    "# check correlation\n",
    "distance.corr()"
   ]
  },
  {
   "cell_type": "code",
   "execution_count": 15,
   "metadata": {},
   "outputs": [
    {
     "data": {
      "image/png": "[encoded data removed]",
      "text/plain": [
       "<matplotlib.figure.Figure at 0x1bdb409de80>"
      ]
     },
     "metadata": {
      "image/png": {
       "height": 461,
       "width": 504
      }
     },
     "output_type": "display_data"
    }
   ],
   "source": [
    "# create heatmap\n",
    "hep_corr = distance.corr()\n",
    "\n",
    "mask = np.zeros_like(hep_corr, dtype=np.bool)\n",
    "mask[np.triu_indices_from(mask)] = True\n",
    "\n",
    "fig, ax = plt.subplots(figsize=(8,7))\n",
    "ax = sns.heatmap(hep_corr, mask=mask)\n",
    "\n",
    "ax.set_xticklabels(ax.xaxis.get_ticklabels(), fontsize=14, rotation=45)\n",
    "ax.set_yticklabels(ax.yaxis.get_ticklabels(), fontsize=14, rotation=0)\n",
    "\n",
    "plt.show()\n",
    "\n",
    "# correlation is minimal"
   ]
  },
  {
   "cell_type": "code",
   "execution_count": 16,
   "metadata": {},
   "outputs": [
    {
     "data": {
      "image/png": "[encoded data removed]",
      "text/plain": [
       "<matplotlib.figure.Figure at 0x1bdb1e0cef0>"
      ]
     },
     "metadata": {
      "image/png": {
       "height": 260,
       "width": 396
      }
     },
     "output_type": "display_data"
    }
   ],
   "source": [
    "bx = distance.plot(kind='scatter', x='Residential',y='fundperbed',color = 'Green',label ='Residential vs Government Funding')\n",
    "\n",
    "# data points are not that linear"
   ]
  },
  {
   "cell_type": "markdown",
   "metadata": {},
   "source": [
    "## Decision Tree Regression"
   ]
  },
  {
   "cell_type": "code",
   "execution_count": 17,
   "metadata": {},
   "outputs": [],
   "source": [
    "# apply the features to x and y\n",
    "Xr=distance[['Residential','dist_Wales','dist_Bondi']]\n",
    "yr=distance.fundperbed.values"
   ]
  },
  {
   "cell_type": "code",
   "execution_count": 18,
   "metadata": {},
   "outputs": [],
   "source": [
    "# Initliaze import\n",
    "from sklearn.linear_model import LinearRegression, LogisticRegression,LogisticRegressionCV\n",
    "from sklearn.tree import DecisionTreeRegressor\n",
    "from sklearn.model_selection import cross_val_score"
   ]
  },
  {
   "cell_type": "code",
   "execution_count": 19,
   "metadata": {},
   "outputs": [
    {
     "name": "stdout",
     "output_type": "stream",
     "text": [
      "(array([-0.13147645, -0.24510623, -0.24510477,  0.01058841, -0.1737754 ,\n",
      "       -0.16334503, -0.63054674, -0.20841061,  0.02362078, -0.47632312]), -0.22398791623512357)\n"
     ]
    }
   ],
   "source": [
    "# Perform Linear Regression\n",
    "reg_scores = cross_val_score(LinearRegression(), Xr, yr, cv=10)\n",
    "\n",
    "print((reg_scores, np.mean(reg_scores)))\n",
    "\n",
    "linreg = LinearRegression().fit(Xr, yr)\n",
    "\n",
    "# score is -0.22. Indicates that the line is worse than the horizontal line"
   ]
  },
  {
   "cell_type": "code",
   "execution_count": 20,
   "metadata": {},
   "outputs": [],
   "source": [
    "# Decision Tree Regression\n",
    "dtr1 = DecisionTreeRegressor(max_depth=1)\n",
    "dtr2 = DecisionTreeRegressor(max_depth=2)\n",
    "dtr3 = DecisionTreeRegressor(max_depth=3)\n",
    "dtrN = DecisionTreeRegressor(max_depth=None)"
   ]
  },
  {
   "cell_type": "code",
   "execution_count": 21,
   "metadata": {},
   "outputs": [
    {
     "data": {
      "text/plain": [
       "DecisionTreeRegressor(criterion='mse', max_depth=None, max_features=None,\n",
       "           max_leaf_nodes=None, min_impurity_decrease=0.0,\n",
       "           min_impurity_split=None, min_samples_leaf=1,\n",
       "           min_samples_split=2, min_weight_fraction_leaf=0.0,\n",
       "           presort=False, random_state=None, splitter='best')"
      ]
     },
     "execution_count": 21,
     "metadata": {},
     "output_type": "execute_result"
    }
   ],
   "source": [
    "dtr1.fit(Xr, yr)\n",
    "dtr2.fit(Xr, yr)\n",
    "dtr3.fit(Xr, yr)\n",
    "dtrN.fit(Xr, yr)"
   ]
  },
  {
   "cell_type": "code",
   "execution_count": 22,
   "metadata": {},
   "outputs": [
    {
     "name": "stdout",
     "output_type": "stream",
     "text": [
      "(array([-0.18590792, -0.10503732, -0.18876405,  0.06469556, -0.23994262,\n",
      "       -0.32018332, -0.75619776, -0.22607437,  0.10231716, -0.53876243]), -0.23938570688663913)\n",
      "(array([-0.50667253, -0.10985958, -0.22324984,  0.13483626, -0.18562566,\n",
      "       -0.35804976, -0.83116082, -0.36798234,  0.07531872, -0.50593662]), -0.28783821729210557)\n",
      "(array([-0.4388348 , -0.17260492, -0.35971392, -0.07328339, -0.24959873,\n",
      "       -0.5077897 , -1.25000655, -0.4282359 ,  0.03478343, -0.45854325]), -0.39038277344492794)\n",
      "(array([-1.12645056, -0.83348525, -1.25722777, -1.25820065, -2.05986899,\n",
      "       -0.96042613, -1.94888684, -1.40412195, -1.44416163, -0.45820938]), -1.275103915195663)\n"
     ]
    }
   ],
   "source": [
    "dtr1_scores = cross_val_score(dtr1, Xr, yr, cv=10)\n",
    "dtr2_scores = cross_val_score(dtr2, Xr, yr, cv=10)\n",
    "dtr3_scores = cross_val_score(dtr3, Xr, yr, cv=10)\n",
    "dtrN_scores = cross_val_score(dtrN, Xr, yr, cv=10)\n",
    "\n",
    "print((dtr1_scores, np.mean(dtr1_scores)))\n",
    "print((dtr2_scores, np.mean(dtr2_scores)))\n",
    "print((dtr3_scores, np.mean(dtr3_scores)))\n",
    "print((dtrN_scores, np.mean(dtrN_scores)))\n",
    "\n",
    "# cross validation scores are lower than the lr. This means the MSE (errors) are being reduced"
   ]
  },
  {
   "cell_type": "code",
   "execution_count": 23,
   "metadata": {},
   "outputs": [],
   "source": [
    "## Results from the linear regression and the decision tree regressor is not acceptable. r2 is a negative.\n",
    "## Proceed to perform classifciation modesl"
   ]
  },
  {
   "cell_type": "markdown",
   "metadata": {},
   "source": [
    "## Logistic Regression and K Nearest Neighbour (KNN)\n",
    "\n",
    "* K-Nearest Neighbors takes a different approach to modeling than we have been practicing with linear models. In order to estimate a value (regression) or class membership (classification), the algorithm finds the observations in its training data that are \"nearest\" to the observation to predict. It then averages or takes a vote of those training observations' target values to estimate the value for the new data point.\n",
    "\n",
    "* Distance is usually calculated using the euclidean distance. The \"K\" in KNN refers to the number of nearest neighbors that will be contributing to the prediction.\n",
    "\n",
    "* Today we will be looking at KNN only in the context of classification"
   ]
  },
  {
   "cell_type": "code",
   "execution_count": 24,
   "metadata": {},
   "outputs": [],
   "source": [
    "# initialize import\n",
    "from sklearn.neighbors import KNeighborsClassifier"
   ]
  },
  {
   "cell_type": "code",
   "execution_count": 25,
   "metadata": {},
   "outputs": [],
   "source": [
    "# drop columns from the dataframe\n",
    "knn1=feature.drop(['dist_Clovelly','dist_BondiJunction','dist_Maroubra','dist_Coogee','dist_Vincent',\n",
    "                       'dist_CBD','dist_Alfred','dist_StGeorge','PhysicalAddressSuburb','Year','AustralianGovernmentFunding',\n",
    "                       'Longitude','Latitude'],axis=1)"
   ]
  },
  {
   "cell_type": "code",
   "execution_count": 26,
   "metadata": {},
   "outputs": [
    {
     "data": {
      "text/html": [
       "<div>\n",
       "<style scoped>\n",
       "    .dataframe tbody tr th:only-of-type {\n",
       "        vertical-align: middle;\n",
       "    }\n",
       "\n",
       "    .dataframe tbody tr th {\n",
       "        vertical-align: top;\n",
       "    }\n",
       "\n",
       "    .dataframe thead th {\n",
       "        text-align: right;\n",
       "    }\n",
       "</style>\n",
       "<table border=\"1\" class=\"dataframe\">\n",
       "  <thead>\n",
       "    <tr style=\"text-align: right;\">\n",
       "      <th></th>\n",
       "      <th>Servicename</th>\n",
       "      <th>Residential</th>\n",
       "      <th>dist_Wales</th>\n",
       "      <th>dist_Bondi</th>\n",
       "      <th>fundperbed</th>\n",
       "    </tr>\n",
       "  </thead>\n",
       "  <tbody>\n",
       "    <tr>\n",
       "      <th>0</th>\n",
       "      <td>St Basil's Annandale</td>\n",
       "      <td>83</td>\n",
       "      <td>7.744212</td>\n",
       "      <td>9.515312</td>\n",
       "      <td>62005.554217</td>\n",
       "    </tr>\n",
       "    <tr>\n",
       "      <th>1</th>\n",
       "      <td>Macquarie Lodge Aged Care Plus Centre</td>\n",
       "      <td>130</td>\n",
       "      <td>9.846089</td>\n",
       "      <td>13.956046</td>\n",
       "      <td>67601.038462</td>\n",
       "    </tr>\n",
       "    <tr>\n",
       "      <th>2</th>\n",
       "      <td>A H Orr Lodge</td>\n",
       "      <td>60</td>\n",
       "      <td>10.746170</td>\n",
       "      <td>13.701145</td>\n",
       "      <td>54300.083333</td>\n",
       "    </tr>\n",
       "    <tr>\n",
       "      <th>3</th>\n",
       "      <td>Opal Cardinal Freeman</td>\n",
       "      <td>135</td>\n",
       "      <td>10.535436</td>\n",
       "      <td>13.516029</td>\n",
       "      <td>41367.851852</td>\n",
       "    </tr>\n",
       "    <tr>\n",
       "      <th>4</th>\n",
       "      <td>Weeroona Aged Care Plus Centre</td>\n",
       "      <td>104</td>\n",
       "      <td>21.801215</td>\n",
       "      <td>24.999496</td>\n",
       "      <td>67859.471154</td>\n",
       "    </tr>\n",
       "  </tbody>\n",
       "</table>\n",
       "</div>"
      ],
      "text/plain": [
       "                             Servicename  Residential  dist_Wales  dist_Bondi  \\\n",
       "0                   St Basil's Annandale           83    7.744212    9.515312   \n",
       "1  Macquarie Lodge Aged Care Plus Centre          130    9.846089   13.956046   \n",
       "2                          A H Orr Lodge           60   10.746170   13.701145   \n",
       "3                  Opal Cardinal Freeman          135   10.535436   13.516029   \n",
       "4         Weeroona Aged Care Plus Centre          104   21.801215   24.999496   \n",
       "\n",
       "     fundperbed  \n",
       "0  62005.554217  \n",
       "1  67601.038462  \n",
       "2  54300.083333  \n",
       "3  41367.851852  \n",
       "4  67859.471154  "
      ]
     },
     "execution_count": 26,
     "metadata": {},
     "output_type": "execute_result"
    }
   ],
   "source": [
    "knn1.head()"
   ]
  },
  {
   "cell_type": "code",
   "execution_count": 27,
   "metadata": {},
   "outputs": [
    {
     "data": {
      "text/plain": [
       "count      555.000000\n",
       "mean     57872.382785\n",
       "std      14028.521859\n",
       "min       3823.000000\n",
       "25%      51136.280898\n",
       "50%      59924.500000\n",
       "75%      67045.112857\n",
       "max      86986.239130\n",
       "Name: fundperbed, dtype: float64"
      ]
     },
     "execution_count": 27,
     "metadata": {},
     "output_type": "execute_result"
    }
   ],
   "source": [
    "# Check for high and low fund level\n",
    "distance.fundperbed.describe()"
   ]
  },
  {
   "cell_type": "code",
   "execution_count": 28,
   "metadata": {},
   "outputs": [],
   "source": [
    "# index the facility name\n",
    "knn1.set_index('Servicename', inplace=True)"
   ]
  },
  {
   "cell_type": "code",
   "execution_count": 29,
   "metadata": {},
   "outputs": [],
   "source": [
    "# Categorise the fund per bed into 3 (high) and 1 (low)\n",
    "bed = []\n",
    "for home in distance['fundperbed']:\n",
    "    if home >= 55000:\n",
    "        bed.append ('3') # high\n",
    "    else:\n",
    "        bed.append ('1') # low\n",
    "\n",
    "knn1['fund_level'] = bed"
   ]
  },
  {
   "cell_type": "code",
   "execution_count": 30,
   "metadata": {},
   "outputs": [
    {
     "data": {
      "text/plain": [
       "3    354\n",
       "1    201\n",
       "Name: fund_level, dtype: int64"
      ]
     },
     "execution_count": 30,
     "metadata": {},
     "output_type": "execute_result"
    }
   ],
   "source": [
    "# review the fund level\n",
    "knn1.fund_level.value_counts()"
   ]
  },
  {
   "cell_type": "code",
   "execution_count": 31,
   "metadata": {},
   "outputs": [],
   "source": [
    "# create a new column to calculate the baseline\n",
    "knn1['y_fund']=knn1.fund_level"
   ]
  },
  {
   "cell_type": "code",
   "execution_count": 32,
   "metadata": {},
   "outputs": [
    {
     "name": "stderr",
     "output_type": "stream",
     "text": [
      "C:\\Users\\lynn_\\Anaconda3\\lib\\site-packages\\ipykernel_launcher.py:2: FutureWarning: convert_objects is deprecated.  To re-infer data dtypes for object columns, use Series.infer_objects()\n",
      "For all other conversions use the data-type specific converters pd.to_datetime, pd.to_timedelta and pd.to_numeric.\n",
      "  \n"
     ]
    }
   ],
   "source": [
    "# convert the column to numeric\n",
    "knn1['y_fund'] = knn1['y_fund'].convert_objects(convert_numeric=True)"
   ]
  },
  {
   "cell_type": "code",
   "execution_count": 33,
   "metadata": {},
   "outputs": [],
   "source": [
    "# define the field\n",
    "y_fund=knn1.y_fund"
   ]
  },
  {
   "cell_type": "code",
   "execution_count": 34,
   "metadata": {},
   "outputs": [
    {
     "data": {
      "text/plain": [
       "3    0.280285\n",
       "1    0.159145\n",
       "Name: y_fund, dtype: float64"
      ]
     },
     "execution_count": 34,
     "metadata": {},
     "output_type": "execute_result"
    }
   ],
   "source": [
    "# calculate the baseline accuracy:\n",
    "y_fund.value_counts()/y_fund.sum()"
   ]
  },
  {
   "cell_type": "code",
   "execution_count": 35,
   "metadata": {},
   "outputs": [],
   "source": [
    "# Convert the records to binary\n",
    "dummies = pd.get_dummies(knn1[['fund_level']], drop_first = True)"
   ]
  },
  {
   "cell_type": "code",
   "execution_count": 36,
   "metadata": {},
   "outputs": [],
   "source": [
    "# Merge the dataframe result back onto the original dataframe\n",
    "knn1 = knn1.merge(dummies, left_index = True, right_index = True,how = 'outer')"
   ]
  },
  {
   "cell_type": "code",
   "execution_count": 37,
   "metadata": {},
   "outputs": [
    {
     "data": {
      "text/html": [
       "<div>\n",
       "<style scoped>\n",
       "    .dataframe tbody tr th:only-of-type {\n",
       "        vertical-align: middle;\n",
       "    }\n",
       "\n",
       "    .dataframe tbody tr th {\n",
       "        vertical-align: top;\n",
       "    }\n",
       "\n",
       "    .dataframe thead th {\n",
       "        text-align: right;\n",
       "    }\n",
       "</style>\n",
       "<table border=\"1\" class=\"dataframe\">\n",
       "  <thead>\n",
       "    <tr style=\"text-align: right;\">\n",
       "      <th></th>\n",
       "      <th>Residential</th>\n",
       "      <th>dist_Wales</th>\n",
       "      <th>dist_Bondi</th>\n",
       "      <th>fundperbed</th>\n",
       "      <th>fund_level</th>\n",
       "      <th>y_fund</th>\n",
       "      <th>fund_level_3</th>\n",
       "    </tr>\n",
       "    <tr>\n",
       "      <th>Servicename</th>\n",
       "      <th></th>\n",
       "      <th></th>\n",
       "      <th></th>\n",
       "      <th></th>\n",
       "      <th></th>\n",
       "      <th></th>\n",
       "      <th></th>\n",
       "    </tr>\n",
       "  </thead>\n",
       "  <tbody>\n",
       "    <tr>\n",
       "      <th>A H Orr Lodge</th>\n",
       "      <td>60</td>\n",
       "      <td>10.746170</td>\n",
       "      <td>13.701145</td>\n",
       "      <td>54300.083333</td>\n",
       "      <td>1</td>\n",
       "      <td>1</td>\n",
       "      <td>0</td>\n",
       "    </tr>\n",
       "    <tr>\n",
       "      <th>ACDMA Aged Hostel</th>\n",
       "      <td>79</td>\n",
       "      <td>27.317185</td>\n",
       "      <td>30.360327</td>\n",
       "      <td>53443.506329</td>\n",
       "      <td>1</td>\n",
       "      <td>1</td>\n",
       "      <td>0</td>\n",
       "    </tr>\n",
       "    <tr>\n",
       "      <th>Abel Tasman Village</th>\n",
       "      <td>91</td>\n",
       "      <td>22.361381</td>\n",
       "      <td>25.302838</td>\n",
       "      <td>38549.043956</td>\n",
       "      <td>1</td>\n",
       "      <td>1</td>\n",
       "      <td>0</td>\n",
       "    </tr>\n",
       "    <tr>\n",
       "      <th>Adelene Court Hostel</th>\n",
       "      <td>35</td>\n",
       "      <td>57.586727</td>\n",
       "      <td>53.917995</td>\n",
       "      <td>36308.657143</td>\n",
       "      <td>1</td>\n",
       "      <td>1</td>\n",
       "      <td>0</td>\n",
       "    </tr>\n",
       "    <tr>\n",
       "      <th>Adelene Nursing Home</th>\n",
       "      <td>71</td>\n",
       "      <td>57.586727</td>\n",
       "      <td>53.917995</td>\n",
       "      <td>38178.380282</td>\n",
       "      <td>1</td>\n",
       "      <td>1</td>\n",
       "      <td>0</td>\n",
       "    </tr>\n",
       "  </tbody>\n",
       "</table>\n",
       "</div>"
      ],
      "text/plain": [
       "                      Residential  dist_Wales  dist_Bondi    fundperbed  \\\n",
       "Servicename                                                               \n",
       "A H Orr Lodge                  60   10.746170   13.701145  54300.083333   \n",
       "ACDMA Aged Hostel              79   27.317185   30.360327  53443.506329   \n",
       "Abel Tasman Village            91   22.361381   25.302838  38549.043956   \n",
       "Adelene Court Hostel           35   57.586727   53.917995  36308.657143   \n",
       "Adelene Nursing Home           71   57.586727   53.917995  38178.380282   \n",
       "\n",
       "                     fund_level  y_fund  fund_level_3  \n",
       "Servicename                                            \n",
       "A H Orr Lodge                 1       1             0  \n",
       "ACDMA Aged Hostel             1       1             0  \n",
       "Abel Tasman Village           1       1             0  \n",
       "Adelene Court Hostel          1       1             0  \n",
       "Adelene Nursing Home          1       1             0  "
      ]
     },
     "execution_count": 37,
     "metadata": {},
     "output_type": "execute_result"
    }
   ],
   "source": [
    "knn1.head()"
   ]
  },
  {
   "cell_type": "code",
   "execution_count": 38,
   "metadata": {},
   "outputs": [
    {
     "data": {
      "text/plain": [
       "<matplotlib.axes._subplots.AxesSubplot at 0x1bdb6329748>"
      ]
     },
     "execution_count": 38,
     "metadata": {},
     "output_type": "execute_result"
    },
    {
     "data": {
      "image/png": "[encoded data removed]",
      "text/plain": [
       "<matplotlib.figure.Figure at 0x1bdb62f80b8>"
      ]
     },
     "metadata": {
      "image/png": {
       "height": 260,
       "width": 363
      }
     },
     "output_type": "display_data"
    }
   ],
   "source": [
    "# review the Residential/ places numbers\n",
    "sns.distplot(knn1.Residential, bins=30, kde=False)"
   ]
  },
  {
   "cell_type": "code",
   "execution_count": 39,
   "metadata": {},
   "outputs": [],
   "source": [
    "# Set the x and y\n",
    "X2 = knn1.drop(['fund_level','y_fund','fundperbed'], axis = 1)\n",
    "y2 = knn1['fund_level'].values"
   ]
  },
  {
   "cell_type": "code",
   "execution_count": 40,
   "metadata": {},
   "outputs": [
    {
     "data": {
      "text/html": [
       "<div>\n",
       "<style scoped>\n",
       "    .dataframe tbody tr th:only-of-type {\n",
       "        vertical-align: middle;\n",
       "    }\n",
       "\n",
       "    .dataframe tbody tr th {\n",
       "        vertical-align: top;\n",
       "    }\n",
       "\n",
       "    .dataframe thead th {\n",
       "        text-align: right;\n",
       "    }\n",
       "</style>\n",
       "<table border=\"1\" class=\"dataframe\">\n",
       "  <thead>\n",
       "    <tr style=\"text-align: right;\">\n",
       "      <th></th>\n",
       "      <th>Residential</th>\n",
       "      <th>dist_Wales</th>\n",
       "      <th>dist_Bondi</th>\n",
       "      <th>fund_level_3</th>\n",
       "    </tr>\n",
       "    <tr>\n",
       "      <th>Servicename</th>\n",
       "      <th></th>\n",
       "      <th></th>\n",
       "      <th></th>\n",
       "      <th></th>\n",
       "    </tr>\n",
       "  </thead>\n",
       "  <tbody>\n",
       "    <tr>\n",
       "      <th>A H Orr Lodge</th>\n",
       "      <td>60</td>\n",
       "      <td>10.746170</td>\n",
       "      <td>13.701145</td>\n",
       "      <td>0</td>\n",
       "    </tr>\n",
       "    <tr>\n",
       "      <th>ACDMA Aged Hostel</th>\n",
       "      <td>79</td>\n",
       "      <td>27.317185</td>\n",
       "      <td>30.360327</td>\n",
       "      <td>0</td>\n",
       "    </tr>\n",
       "    <tr>\n",
       "      <th>Abel Tasman Village</th>\n",
       "      <td>91</td>\n",
       "      <td>22.361381</td>\n",
       "      <td>25.302838</td>\n",
       "      <td>0</td>\n",
       "    </tr>\n",
       "    <tr>\n",
       "      <th>Adelene Court Hostel</th>\n",
       "      <td>35</td>\n",
       "      <td>57.586727</td>\n",
       "      <td>53.917995</td>\n",
       "      <td>0</td>\n",
       "    </tr>\n",
       "    <tr>\n",
       "      <th>Adelene Nursing Home</th>\n",
       "      <td>71</td>\n",
       "      <td>57.586727</td>\n",
       "      <td>53.917995</td>\n",
       "      <td>0</td>\n",
       "    </tr>\n",
       "  </tbody>\n",
       "</table>\n",
       "</div>"
      ],
      "text/plain": [
       "                      Residential  dist_Wales  dist_Bondi  fund_level_3\n",
       "Servicename                                                            \n",
       "A H Orr Lodge                  60   10.746170   13.701145             0\n",
       "ACDMA Aged Hostel              79   27.317185   30.360327             0\n",
       "Abel Tasman Village            91   22.361381   25.302838             0\n",
       "Adelene Court Hostel           35   57.586727   53.917995             0\n",
       "Adelene Nursing Home           71   57.586727   53.917995             0"
      ]
     },
     "execution_count": 40,
     "metadata": {},
     "output_type": "execute_result"
    }
   ],
   "source": [
    "# Check the data\n",
    "X2.head()"
   ]
  },
  {
   "cell_type": "code",
   "execution_count": 41,
   "metadata": {},
   "outputs": [
    {
     "data": {
      "text/plain": [
       "Index(['Residential', 'dist_Wales', 'dist_Bondi', 'fund_level_3'], dtype='object')"
      ]
     },
     "execution_count": 41,
     "metadata": {},
     "output_type": "execute_result"
    }
   ],
   "source": [
    "# review the columns\n",
    "X2.columns"
   ]
  },
  {
   "cell_type": "code",
   "execution_count": 42,
   "metadata": {},
   "outputs": [],
   "source": [
    "# Standardize the predictor matrix\n",
    "from sklearn.preprocessing import StandardScaler\n",
    "\n",
    "ss = StandardScaler()\n",
    "Xs = ss.fit_transform(X2)"
   ]
  },
  {
   "cell_type": "code",
   "execution_count": 43,
   "metadata": {},
   "outputs": [
    {
     "name": "stdout",
     "output_type": "stream",
     "text": [
      "[1.         1.         1.         1.         1.         1.\n",
      " 1.         1.         1.         1.         1.         1.\n",
      " 1.         1.         1.         1.         1.         1.\n",
      " 1.         1.         0.95454545 0.81818182 0.77272727 0.81818182\n",
      " 1.        ]\n",
      "0.9745454545454545\n"
     ]
    }
   ],
   "source": [
    "from sklearn.model_selection import cross_val_score\n",
    "\n",
    "lr = LogisticRegression()\n",
    "\n",
    "# using a 25-fold cross-val for fun\n",
    "scores = cross_val_score(lr, Xs, y2, cv=25)\n",
    "print(scores)\n",
    "print(np.mean(scores))\n",
    "\n",
    "# Logistic Regression result is too good"
   ]
  },
  {
   "cell_type": "code",
   "execution_count": 44,
   "metadata": {},
   "outputs": [
    {
     "name": "stdout",
     "output_type": "stream",
     "text": [
      "0.656140350877193\n"
     ]
    }
   ],
   "source": [
    "from sklearn.model_selection import train_test_split\n",
    "# Create a 50-50 train-test split. Fit the model on training and get the predictions and predicted probabilities on the test data.\n",
    "# Split data into training and testing with 25% in testing.\n",
    "X_train, X_test, y_train, y_test = train_test_split(X2, y2, test_size=0.50, random_state=12)\n",
    "\n",
    "# STEP 2: train the model on the training set\n",
    "knn = KNeighborsClassifier(n_neighbors=10)\n",
    "knn.fit(X_train, y_train)\n",
    "\n",
    "# STEP 3: test the model on the testing set, and check the accuracy\n",
    "y_pred_class = knn.predict(X_test)\n",
    "print(metrics.accuracy_score(y_test, y_pred_class))\n",
    "\n",
    "# KNN result is acceptable"
   ]
  },
  {
   "cell_type": "code",
   "execution_count": 45,
   "metadata": {},
   "outputs": [
    {
     "name": "stderr",
     "output_type": "stream",
     "text": [
      "C:\\Users\\lynn_\\Anaconda3\\lib\\site-packages\\ipykernel_launcher.py:3: UserWarning: \n",
      "This call to matplotlib.use() has no effect because the backend has already\n",
      "been chosen; matplotlib.use() must be called *before* pylab, matplotlib.pyplot,\n",
      "or matplotlib.backends is imported for the first time.\n",
      "\n",
      "The backend was *originally* set to 'module://ipykernel.pylab.backend_inline' by the following code:\n",
      "  File \"C:\\Users\\lynn_\\Anaconda3\\lib\\runpy.py\", line 193, in _run_module_as_main\n",
      "    \"__main__\", mod_spec)\n",
      "  File \"C:\\Users\\lynn_\\Anaconda3\\lib\\runpy.py\", line 85, in _run_code\n",
      "    exec(code, run_globals)\n",
      "  File \"C:\\Users\\lynn_\\Anaconda3\\lib\\site-packages\\ipykernel_launcher.py\", line 16, in <module>\n",
      "    app.launch_new_instance()\n",
      "  File \"C:\\Users\\lynn_\\Anaconda3\\lib\\site-packages\\traitlets\\config\\application.py\", line 658, in launch_instance\n",
      "    app.start()\n",
      "  File \"C:\\Users\\lynn_\\Anaconda3\\lib\\site-packages\\ipykernel\\kernelapp.py\", line 478, in start\n",
      "    self.io_loop.start()\n",
      "  File \"C:\\Users\\lynn_\\Anaconda3\\lib\\site-packages\\zmq\\eventloop\\ioloop.py\", line 177, in start\n",
      "    super(ZMQIOLoop, self).start()\n",
      "  File \"C:\\Users\\lynn_\\Anaconda3\\lib\\site-packages\\tornado\\ioloop.py\", line 888, in start\n",
      "    handler_func(fd_obj, events)\n",
      "  File \"C:\\Users\\lynn_\\Anaconda3\\lib\\site-packages\\tornado\\stack_context.py\", line 277, in null_wrapper\n",
      "    return fn(*args, **kwargs)\n",
      "  File \"C:\\Users\\lynn_\\Anaconda3\\lib\\site-packages\\zmq\\eventloop\\zmqstream.py\", line 440, in _handle_events\n",
      "    self._handle_recv()\n",
      "  File \"C:\\Users\\lynn_\\Anaconda3\\lib\\site-packages\\zmq\\eventloop\\zmqstream.py\", line 472, in _handle_recv\n",
      "    self._run_callback(callback, msg)\n",
      "  File \"C:\\Users\\lynn_\\Anaconda3\\lib\\site-packages\\zmq\\eventloop\\zmqstream.py\", line 414, in _run_callback\n",
      "    callback(*args, **kwargs)\n",
      "  File \"C:\\Users\\lynn_\\Anaconda3\\lib\\site-packages\\tornado\\stack_context.py\", line 277, in null_wrapper\n",
      "    return fn(*args, **kwargs)\n",
      "  File \"C:\\Users\\lynn_\\Anaconda3\\lib\\site-packages\\ipykernel\\kernelbase.py\", line 283, in dispatcher\n",
      "    return self.dispatch_shell(stream, msg)\n",
      "  File \"C:\\Users\\lynn_\\Anaconda3\\lib\\site-packages\\ipykernel\\kernelbase.py\", line 233, in dispatch_shell\n",
      "    handler(stream, idents, msg)\n",
      "  File \"C:\\Users\\lynn_\\Anaconda3\\lib\\site-packages\\ipykernel\\kernelbase.py\", line 399, in execute_request\n",
      "    user_expressions, allow_stdin)\n",
      "  File \"C:\\Users\\lynn_\\Anaconda3\\lib\\site-packages\\ipykernel\\ipkernel.py\", line 208, in do_execute\n",
      "    res = shell.run_cell(code, store_history=store_history, silent=silent)\n",
      "  File \"C:\\Users\\lynn_\\Anaconda3\\lib\\site-packages\\ipykernel\\zmqshell.py\", line 537, in run_cell\n",
      "    return super(ZMQInteractiveShell, self).run_cell(*args, **kwargs)\n",
      "  File \"C:\\Users\\lynn_\\Anaconda3\\lib\\site-packages\\IPython\\core\\interactiveshell.py\", line 2739, in run_cell\n",
      "    self.events.trigger('post_run_cell')\n",
      "  File \"C:\\Users\\lynn_\\Anaconda3\\lib\\site-packages\\IPython\\core\\events.py\", line 73, in trigger\n",
      "    func(*args, **kwargs)\n",
      "  File \"C:\\Users\\lynn_\\Anaconda3\\lib\\site-packages\\ipykernel\\pylab\\backend_inline.py\", line 160, in configure_once\n",
      "    activate_matplotlib(backend)\n",
      "  File \"C:\\Users\\lynn_\\Anaconda3\\lib\\site-packages\\IPython\\core\\pylabtools.py\", line 308, in activate_matplotlib\n",
      "    matplotlib.pyplot.switch_backend(backend)\n",
      "  File \"C:\\Users\\lynn_\\Anaconda3\\lib\\site-packages\\matplotlib\\pyplot.py\", line 232, in switch_backend\n",
      "    matplotlib.use(newbackend, warn=False, force=True)\n",
      "  File \"C:\\Users\\lynn_\\Anaconda3\\lib\\site-packages\\matplotlib\\__init__.py\", line 1305, in use\n",
      "    reload(sys.modules['matplotlib.backends'])\n",
      "  File \"C:\\Users\\lynn_\\Anaconda3\\lib\\importlib\\__init__.py\", line 166, in reload\n",
      "    _bootstrap._exec(spec, module)\n",
      "  File \"C:\\Users\\lynn_\\Anaconda3\\lib\\site-packages\\matplotlib\\backends\\__init__.py\", line 14, in <module>\n",
      "    line for line in traceback.format_stack()\n",
      "\n",
      "\n",
      "  This is separate from the ipykernel package so we can avoid doing imports until\n"
     ]
    },
    {
     "data": {
      "image/png": "[encoded data removed]",
      "text/plain": [
       "<matplotlib.figure.Figure at 0x1bdb63fceb8>"
      ]
     },
     "metadata": {
      "image/png": {
       "height": 423,
       "width": 419
      }
     },
     "output_type": "display_data"
    }
   ],
   "source": [
    "# Review the data points without KNN in a plot\n",
    "import matplotlib\n",
    "matplotlib.use('GTKAgg')\n",
    " \n",
    "import numpy as np\n",
    "import matplotlib.pyplot as plt\n",
    "from matplotlib.colors import ListedColormap\n",
    "from sklearn import neighbors\n",
    "\n",
    " \n",
    "# take the first two features\n",
    "X = Xs\n",
    "Y = y2\n",
    "h = .05  # step size in the mesh\n",
    " \n",
    "# Calculate min, max and limits\n",
    "x_min, x_max = X[:, 0].min() - 1, X[:, 0].max() + 1\n",
    "y_min, y_max = X[:, 1].min() - 1, X[:, 1].max() + 1\n",
    "xx, yy = np.meshgrid(np.arange(x_min, x_max, h), np.arange(y_min, y_max, h))\n",
    " \n",
    "# Put the result into a color plot\n",
    "plt.figure(figsize=(7,7))\n",
    "\n",
    "plt.scatter(X[:, 0], X[:, 1])\n",
    "plt.xlim(xx.min(), xx.max())\n",
    "plt.ylim(yy.min(), yy.max())\n",
    "plt.title(\"Data points\")\n",
    "plt.show()"
   ]
  },
  {
   "cell_type": "code",
   "execution_count": 46,
   "metadata": {},
   "outputs": [
    {
     "name": "stdout",
     "output_type": "stream",
     "text": [
      "455.0\n"
     ]
    }
   ],
   "source": [
    "# plot the KNN\n",
    "folds = 5\n",
    "max_neighbors = np.floor(Xs.shape[0] - Xs.shape[0]/5.)\n",
    "\n",
    "print(max_neighbors)\n",
    "\n",
    "# plot test accuracy by number of neighbors:\n",
    "test_acc = []\n",
    "for i in range(1, int(max_neighbors)):\n",
    "    knn = KNeighborsClassifier(n_neighbors=i)\n",
    "    test_acc.append(np.mean(cross_val_score(knn, Xs, y2, cv=5)))"
   ]
  },
  {
   "cell_type": "code",
   "execution_count": 47,
   "metadata": {},
   "outputs": [
    {
     "data": {
      "image/png": "[encoded data removed]",
      "text/plain": [
       "<matplotlib.figure.Figure at 0x1bdb63129b0>"
      ]
     },
     "metadata": {
      "image/png": {
       "height": 353,
       "width": 483
      }
     },
     "output_type": "display_data"
    }
   ],
   "source": [
    "fig, ax = plt.subplots(figsize=(8,6))\n",
    "ax.plot(list(range(1, int(max_neighbors))), test_acc, lw=3., color='blue')\n",
    "plt.show()\n",
    "# accuracy at 95% above due to the max neighbours"
   ]
  },
  {
   "cell_type": "markdown",
   "metadata": {},
   "source": [
    "## Perform GridSearch"
   ]
  },
  {
   "cell_type": "code",
   "execution_count": 48,
   "metadata": {},
   "outputs": [
    {
     "name": "stdout",
     "output_type": "stream",
     "text": [
      "0.9754385964912281\n"
     ]
    }
   ],
   "source": [
    "from sklearn.linear_model import LogisticRegression, LogisticRegressionCV\n",
    "\n",
    "lr = LogisticRegression()\n",
    "lr.fit(X_train, y_train)\n",
    "\n",
    "print(lr.score(X_test, y_test))"
   ]
  },
  {
   "cell_type": "code",
   "execution_count": 49,
   "metadata": {},
   "outputs": [],
   "source": [
    "from sklearn.model_selection import GridSearchCV\n",
    "# Set up the parameters. Looking at C regularization strengths on a log scale.\n",
    "# This takes awhile...\n",
    "gs_params = {\n",
    "    'penalty':['l1','l2'],\n",
    "    'solver':['liblinear'],\n",
    "    'C':np.logspace(-5,0,100)\n",
    "}\n",
    "\n",
    "lr_gridsearch = GridSearchCV(LogisticRegression(), gs_params, cv=5, verbose=1)\n"
   ]
  },
  {
   "cell_type": "code",
   "execution_count": 50,
   "metadata": {},
   "outputs": [
    {
     "name": "stdout",
     "output_type": "stream",
     "text": [
      "Fitting 5 folds for each of 200 candidates, totalling 1000 fits\n"
     ]
    },
    {
     "name": "stderr",
     "output_type": "stream",
     "text": [
      "[Parallel(n_jobs=1)]: Done 1000 out of 1000 | elapsed:    5.9s finished\n"
     ]
    },
    {
     "data": {
      "text/plain": [
       "GridSearchCV(cv=5, error_score='raise',\n",
       "       estimator=LogisticRegression(C=1.0, class_weight=None, dual=False, fit_intercept=True,\n",
       "          intercept_scaling=1, max_iter=100, multi_class='ovr', n_jobs=1,\n",
       "          penalty='l2', random_state=None, solver='liblinear', tol=0.0001,\n",
       "          verbose=0, warm_start=False),\n",
       "       fit_params=None, iid=True, n_jobs=1,\n",
       "       param_grid={'penalty': ['l1', 'l2'], 'solver': ['liblinear'], 'C': array([1.00000e-05, 1.12332e-05, ..., 8.90215e-01, 1.00000e+00])},\n",
       "       pre_dispatch='2*n_jobs', refit=True, return_train_score='warn',\n",
       "       scoring=None, verbose=1)"
      ]
     },
     "execution_count": 50,
     "metadata": {},
     "output_type": "execute_result"
    }
   ],
   "source": [
    "lr_gridsearch.fit(X_train, y_train)"
   ]
  },
  {
   "cell_type": "code",
   "execution_count": 51,
   "metadata": {},
   "outputs": [
    {
     "data": {
      "text/plain": [
       "0.9753521126760564"
      ]
     },
     "execution_count": 51,
     "metadata": {},
     "output_type": "execute_result"
    }
   ],
   "source": [
    "# best score on the training data:\n",
    "lr_gridsearch.best_score_"
   ]
  },
  {
   "cell_type": "code",
   "execution_count": 52,
   "metadata": {},
   "outputs": [
    {
     "data": {
      "text/plain": [
       "{'C': 0.03430469286314919, 'penalty': 'l1', 'solver': 'liblinear'}"
      ]
     },
     "execution_count": 52,
     "metadata": {},
     "output_type": "execute_result"
    }
   ],
   "source": [
    "# best parameters on the training data:\n",
    "lr_gridsearch.best_params_"
   ]
  },
  {
   "cell_type": "code",
   "execution_count": 53,
   "metadata": {},
   "outputs": [],
   "source": [
    "# assign the best estimator to a variable:\n",
    "best_lr = lr_gridsearch.best_estimator_"
   ]
  },
  {
   "cell_type": "code",
   "execution_count": 54,
   "metadata": {},
   "outputs": [
    {
     "data": {
      "text/plain": [
       "0.9754385964912281"
      ]
     },
     "execution_count": 54,
     "metadata": {},
     "output_type": "execute_result"
    }
   ],
   "source": [
    "# Score it on the testing data:\n",
    "best_lr.score(X_test, y_test)"
   ]
  },
  {
   "cell_type": "code",
   "execution_count": 56,
   "metadata": {},
   "outputs": [],
   "source": [
    "y_pred_lr=lr_gridsearch.predict(X_test)"
   ]
  },
  {
   "cell_type": "code",
   "execution_count": 60,
   "metadata": {},
   "outputs": [
    {
     "name": "stdout",
     "output_type": "stream",
     "text": [
      "0.9754385964912281\n"
     ]
    }
   ],
   "source": [
    "from sklearn.metrics import accuracy_score\n",
    "print(accuracy_score (y_test,y_pred_lr))"
   ]
  },
  {
   "cell_type": "markdown",
   "metadata": {},
   "source": [
    "## Get the coefficients"
   ]
  },
  {
   "cell_type": "code",
   "execution_count": 61,
   "metadata": {},
   "outputs": [],
   "source": [
    "# Get the coefficients\n",
    "coef_df = pd.DataFrame({\n",
    "        'coef':best_lr.coef_[0],\n",
    "        'feature':X2.columns\n",
    "    })"
   ]
  },
  {
   "cell_type": "code",
   "execution_count": 62,
   "metadata": {},
   "outputs": [],
   "source": [
    "coef_df['abs_coef'] = np.abs(coef_df.coef)"
   ]
  },
  {
   "cell_type": "code",
   "execution_count": 63,
   "metadata": {},
   "outputs": [],
   "source": [
    "# sort by absolute value of coefficient (magnitude)\n",
    "coef_df.sort_values('abs_coef', ascending=False, inplace=True)"
   ]
  },
  {
   "cell_type": "code",
   "execution_count": 64,
   "metadata": {},
   "outputs": [
    {
     "data": {
      "text/html": [
       "<div>\n",
       "<style scoped>\n",
       "    .dataframe tbody tr th:only-of-type {\n",
       "        vertical-align: middle;\n",
       "    }\n",
       "\n",
       "    .dataframe tbody tr th {\n",
       "        vertical-align: top;\n",
       "    }\n",
       "\n",
       "    .dataframe thead th {\n",
       "        text-align: right;\n",
       "    }\n",
       "</style>\n",
       "<table border=\"1\" class=\"dataframe\">\n",
       "  <thead>\n",
       "    <tr style=\"text-align: right;\">\n",
       "      <th></th>\n",
       "      <th>coef</th>\n",
       "      <th>feature</th>\n",
       "      <th>abs_coef</th>\n",
       "    </tr>\n",
       "  </thead>\n",
       "  <tbody>\n",
       "    <tr>\n",
       "      <th>3</th>\n",
       "      <td>1.911982</td>\n",
       "      <td>fund_level_3</td>\n",
       "      <td>1.911982</td>\n",
       "    </tr>\n",
       "    <tr>\n",
       "      <th>0</th>\n",
       "      <td>-0.003566</td>\n",
       "      <td>Residential</td>\n",
       "      <td>0.003566</td>\n",
       "    </tr>\n",
       "    <tr>\n",
       "      <th>1</th>\n",
       "      <td>-0.000624</td>\n",
       "      <td>dist_Wales</td>\n",
       "      <td>0.000624</td>\n",
       "    </tr>\n",
       "  </tbody>\n",
       "</table>\n",
       "</div>"
      ],
      "text/plain": [
       "       coef       feature  abs_coef\n",
       "3  1.911982  fund_level_3  1.911982\n",
       "0 -0.003566   Residential  0.003566\n",
       "1 -0.000624    dist_Wales  0.000624"
      ]
     },
     "execution_count": 64,
     "metadata": {},
     "output_type": "execute_result"
    }
   ],
   "source": [
    "# Show non-zero coefs and predictors\n",
    "coef_df[coef_df.coef != 0]"
   ]
  },
  {
   "cell_type": "markdown",
   "metadata": {},
   "source": [
    "## Support Vector Machine"
   ]
  },
  {
   "cell_type": "code",
   "execution_count": 54,
   "metadata": {},
   "outputs": [],
   "source": [
    "# initilize the imports\n",
    "from sklearn import svm, linear_model"
   ]
  },
  {
   "cell_type": "code",
   "execution_count": 55,
   "metadata": {},
   "outputs": [
    {
     "name": "stdout",
     "output_type": "stream",
     "text": [
      "0.645028519741061\n",
      "0.9752212389380531\n"
     ]
    }
   ],
   "source": [
    "# Let's try a SVM\n",
    "clf = svm.SVC()\n",
    "print(cross_val_score(clf, X2, y2, cv=5, scoring='accuracy').mean())\n",
    "# Close to KNN\n",
    "\n",
    "# try a kernel\n",
    "clf = svm.SVC(kernel='linear')\n",
    "print(cross_val_score(clf, X2, y2, cv=5, scoring='accuracy').mean())"
   ]
  },
  {
   "cell_type": "markdown",
   "metadata": {},
   "source": [
    "#### The number of places influences the level of government as oppose to the location of the residential aged care facility"
   ]
  },
  {
   "cell_type": "code",
   "execution_count": 56,
   "metadata": {},
   "outputs": [
    {
     "name": "stderr",
     "output_type": "stream",
     "text": [
      "C:\\Users\\lynn_\\Anaconda3\\lib\\site-packages\\sklearn\\model_selection\\_search.py:761: DeprecationWarning: The grid_scores_ attribute was deprecated in version 0.18 in favor of the more elaborate cv_results_ attribute. The grid_scores_ attribute will not be available from 0.20\n",
      "  DeprecationWarning)\n"
     ]
    },
    {
     "data": {
      "image/png": "[encoded data removed]",
      "text/plain": [
       "<matplotlib.figure.Figure at 0x22fd0b1e860>"
      ]
     },
     "metadata": {
      "image/png": {
       "height": 260,
       "width": 404
      }
     },
     "output_type": "display_data"
    }
   ],
   "source": [
    "# Plot the gridsearch with the SVM\n",
    "clf_ = svm.SVC(kernel='linear')\n",
    "Cs = [1, 10, 100, 1000]\n",
    "Gammas = [1e-3, 1e-4]\n",
    "clf = GridSearchCV(clf_,\n",
    "            dict(C=Cs,\n",
    "                 gamma=Gammas),\n",
    "                 cv=5,\n",
    "                 pre_dispatch='1*n_jobs',\n",
    "                 n_jobs=1)\n",
    "\n",
    "clf.fit(X2, y2)\n",
    "\n",
    "scores = [x[1] for x in clf.grid_scores_]\n",
    "scores = np.array(scores).reshape(len(Cs), len(Gammas))\n",
    "\n",
    "for ind, i in enumerate(Cs):\n",
    "    plt.plot(Gammas, scores[ind], label='C: ' + str(i))\n",
    "plt.legend()\n",
    "plt.xlabel('Gamma')\n",
    "plt.ylabel('Mean score')\n",
    "plt.show()"
   ]
  },
  {
   "cell_type": "code",
   "execution_count": null,
   "metadata": {},
   "outputs": [],
   "source": [
    "clf_ = svm.SVC(kernel='linear')\n",
    "Cs = [1, 10, 100, 1000]\n",
    "Gammas = [1e-3, 1e-4]\n",
    "clf = GridSearchCV(clf_,\n",
    "            dict(C=Cs,\n",
    "                 gamma=Gammas),\n",
    "                 cv=5,\n",
    "                 pre_dispatch='1*n_jobs',\n",
    "                 n_jobs=1)\n",
    "\n",
    "clf.fit(X2, y2)\n",
    "\n",
    "scores = [x[1] for x in clf.cv_results_]\n",
    "scores = np.array(scores).reshape(len(Cs), len(Gammas))\n",
    "\n",
    "for ind, i in enumerate(Cs):\n",
    "    plt.plot(Gammas, scores[ind], label='C: ' + str(i))\n",
    "plt.legend()\n",
    "plt.xlabel('Gamma')\n",
    "plt.ylabel('Mean score')\n",
    "plt.show()"
   ]
  },
  {
   "cell_type": "code",
   "execution_count": null,
   "metadata": {},
   "outputs": [],
   "source": []
  }
 ],
 "metadata": {
  "kernelspec": {
   "display_name": "Python 3",
   "language": "python",
   "name": "python3"
  },
  "language_info": {
   "codemirror_mode": {
    "name": "ipython",
    "version": 3
   },
   "file_extension": ".py",
   "mimetype": "text/x-python",
   "name": "python",
   "nbconvert_exporter": "python",
   "pygments_lexer": "ipython3",
   "version": "3.6.4"
  }
 },
 "nbformat": 4,
 "nbformat_minor": 2
}
