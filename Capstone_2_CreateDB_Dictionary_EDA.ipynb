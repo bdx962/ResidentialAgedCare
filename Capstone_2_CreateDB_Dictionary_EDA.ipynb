{
 "cells": [
  {
   "cell_type": "markdown",
   "metadata": {},
   "source": [
    "# Requirements\n",
    "* 1.Walk through your model step by step, starting with EDA\n",
    "    * What are your variables of interest?\n",
    "    * What outliers did you remove?\n",
    "    * What types of data imputation did you perform?\n",
    "* 2.Summarize your statistical analysis, including:\n",
    "    * model selection\n",
    "    * implementation\n",
    "    * evaluation\n",
    "    * inference\n"
   ]
  },
  {
   "cell_type": "markdown",
   "metadata": {},
   "source": [
    "# Capstone – Ageing and Residential Aged Care Facilties\n",
    "\n",
    "There is a high ageing population in Australia. As such, resources are required to support the ageing population. This project determines if there are sufficient NSW residential aged care facilities in place to support the ageing population.\n",
    "\n",
    "### The project investigates the following: \n",
    "* Sufficent residential beds for people over 65 years currently and in future. \n",
    "* The optimal features of a current residential aged care faciltiy for the purpose of opening future residential facilties. \n",
    "* The general sentiment towards a residential aged care facility\n",
    "\n",
    "### Assumptions:\n",
    "* Future residential beds are based on the level of occupancy against the population of people who are 65 years old and over\n",
    "* All factors related to the care of the elderly are sufficient and remains constant. An example is the staff to patient ratios. \n",
    "* The location of the residential aged care facility may not be the location where a person has lived most of their life. An example would be a person entering residential aged care facility that is located where his/ her children are currently residing. \n",
    "* The government funding provided for each residential aged care facility in 2017 does not require adjustment\n",
    "* The estimated population will have a high fertility rate ie: A_65\n",
    "\n",
    "### The data sources are from the following:\n",
    "* Population data from Australian Bureau of Statistics\n",
    "* List of aged care/ retirement homes from Department of Health – Ageing and Aged Care\n",
    "\n",
    "\n",
    "### Definitions:\n",
    "* Residential aged care - A special-purpose facility which provides accommodation and other types of support, including assistance with day-to-day living, intensive forms of care, and assistance towards independent living, to frail and aged residents.\n",
    "\n",
    "* Residential Bed, Bed or Place - A bed a patient is accommodated "
   ]
  },
  {
   "cell_type": "code",
   "execution_count": 1,
   "metadata": {},
   "outputs": [],
   "source": [
    "# Initialize imports\n",
    "import numpy as np\n",
    "import scipy.stats as stats\n",
    "from scipy.stats import t\n",
    "import seaborn as sns\n",
    "import matplotlib.pyplot as plt\n",
    "import pandas as pd\n",
    "from pandas.io import sql\n",
    "import sqlite3\n",
    "import patsy\n",
    "\n",
    "sns.set_style('whitegrid')\n",
    "\n",
    "%config InlineBackend.figure_format = 'retina'\n",
    "%matplotlib inline"
   ]
  },
  {
   "cell_type": "code",
   "execution_count": 2,
   "metadata": {},
   "outputs": [],
   "source": [
    "# Initialize imports\n",
    "import sqlite3\n",
    "sqlite_db = './openlib.db'\n",
    "conn = sqlite3.connect(sqlite_db) \n",
    "c = conn.cursor()\n",
    "#sepadmin = pd.read_sql('SELECT * FROM separate_admin LIMIT 10', con=conn)\n",
    "#servicelist = pd.read_sql('SELECT * FROM NSWservicelist LIMIT 10', con=conn)"
   ]
  },
  {
   "cell_type": "code",
   "execution_count": 3,
   "metadata": {},
   "outputs": [],
   "source": [
    "# In case typing out `sql.read_sql()` is a little too much, we'll create a function shortcut.\n",
    "\n",
    "c = sqlite3.connect('./openlib.db')\n",
    "\n",
    "def Q(query, db=c):\n",
    "    return sql.read_sql(query, db)"
   ]
  },
  {
   "cell_type": "markdown",
   "metadata": {},
   "source": [
    "# Create a data dictionary"
   ]
  },
  {
   "cell_type": "code",
   "execution_count": 4,
   "metadata": {},
   "outputs": [],
   "source": [
    "# Create a data dictionary to explain the tables, columns and type of columns\n",
    "data_dic=pd.DataFrame({'id': [1,2,3,4,5,6,7,8,9,10,11,12,13,14,15,16,17,18,19,20,21,22,23,24,25,26],\n",
    "                       't_able': ['separate_admin',\n",
    "                                'separate_admin',\n",
    "                                'separate_admin',\n",
    "                                'separate_admin',\n",
    "                                'separate_admin',\n",
    "                                'separate_admin',\n",
    "                                'separate_admin',\n",
    "                                'separate_admin',\n",
    "                                'NSWservicelist',\n",
    "                                'NSWservicelist',\n",
    "                                'NSWservicelist',\n",
    "                                'NSWservicelist',\n",
    "                                'NSWservicelist',\n",
    "                                'NSWservicelist',\n",
    "                                'NSWservicelist',\n",
    "                                'NSWservicelist',\n",
    "                                'NSWservicelist',\n",
    "                                'NSWservicelist',\n",
    "                                'NSWservicelist',\n",
    "                                'NSWservicelist',\n",
    "                                'NSWservicelist',\n",
    "                                'NSWservicelist',\n",
    "                                'NSWservicelist',\n",
    "                                'NSWservicelist',\n",
    "                                'NSWservicelist',\n",
    "                                'NSWservicelist'],\n",
    "                       'name': ['state','year','places','occupancy','pctoccupant','A_65','B_65','C_65','Servicename',\n",
    "                                'PhysicalAddressLine1','PhysicalAddressLine2','PhysicalAddressSuburb','PhysicalAddressState',\n",
    "                                 'PhysicalAddressPostcode','2015AgedCarePlanningRegion(ACPR)','CareType','ResidentialPlaces',\n",
    "                                'HomeCarePlace','RestorativeCarePlaces','ProviderName','OrganisationType',\n",
    "                                'ABSRemoteness','2016-17AustralianGovernmentFunding','Year','Latitude','Longitude'],\n",
    "                       'description':['Population state',\n",
    "                                       'Population year',\n",
    "                                       'The number of residential aged care beds',\n",
    "                                       'The occupancy levels for each year',\n",
    "                                       'The percentage occupancy levels based on places for each year',\n",
    "                                       'Estimated population numbers for people over 65 for high fertility scenario',\n",
    "                                       'Estimated population numbers for people over 65 for medium fertility scenario',\n",
    "                                       'Estimated population numbers for people over 65 for low fertility scenario',\n",
    "                                      'Name of facility',\n",
    "                                      'Physical address 1 of facility',\n",
    "                                      'Physical address 2 of facility',\n",
    "                                      'Physical address suburb of facility',\n",
    "                                      'The state or territory of the facility',\n",
    "                                      'Physical postcode of facility',\n",
    "                                      'The name of the Aged Care Planning Region based on the location of the service delivered',\n",
    "                                      'Residential aged care facility or Home Care service outlet.',\n",
    "                                      'Number of beds for residental places',\n",
    "                                      'Number of places for home care',\n",
    "                                      'Number of places for restorative care',\n",
    "                                      'An organisation that operates an aged care service (or multiple services) through a national aged care program',\n",
    "                                      'The organisation type of an organisation providing aged care services',\n",
    "                                      'The remoteness category of an area a service was provided to as defined by the Australian Bureau of Statistics',\n",
    "                                      'Govt funding received for the facility in 2016-2017',\n",
    "                                      'Year the facility was operating',\n",
    "                                      'Location latitute of the facility',\n",
    "                                      'Location longtitute of the facility'],       \n",
    "                       'type': ['object','int','int','int','int','int','int','int','object','object','object','object',\n",
    "                                'object','int','object','object','int','int','int','object','object','object','float','int',\n",
    "                               'float','float']})\n",
    "                                       \n",
    "                                       "
   ]
  },
  {
   "cell_type": "code",
   "execution_count": 5,
   "metadata": {},
   "outputs": [],
   "source": [
    "# Write the data dictionary to SQL Lite database\n",
    "data_dic.to_sql(name = 'data_dic', con = conn, if_exists = 'replace', index = False)"
   ]
  },
  {
   "cell_type": "code",
   "execution_count": 6,
   "metadata": {},
   "outputs": [
    {
     "data": {
      "text/html": [
       "<div>\n",
       "<style scoped>\n",
       "    .dataframe tbody tr th:only-of-type {\n",
       "        vertical-align: middle;\n",
       "    }\n",
       "\n",
       "    .dataframe tbody tr th {\n",
       "        vertical-align: top;\n",
       "    }\n",
       "\n",
       "    .dataframe thead th {\n",
       "        text-align: right;\n",
       "    }\n",
       "</style>\n",
       "<table border=\"1\" class=\"dataframe\">\n",
       "  <thead>\n",
       "    <tr style=\"text-align: right;\">\n",
       "      <th></th>\n",
       "      <th>description</th>\n",
       "      <th>id</th>\n",
       "      <th>name</th>\n",
       "      <th>t_able</th>\n",
       "      <th>type</th>\n",
       "    </tr>\n",
       "  </thead>\n",
       "  <tbody>\n",
       "    <tr>\n",
       "      <th>0</th>\n",
       "      <td>Population state</td>\n",
       "      <td>1</td>\n",
       "      <td>state</td>\n",
       "      <td>separate_admin</td>\n",
       "      <td>object</td>\n",
       "    </tr>\n",
       "    <tr>\n",
       "      <th>1</th>\n",
       "      <td>Population year</td>\n",
       "      <td>2</td>\n",
       "      <td>year</td>\n",
       "      <td>separate_admin</td>\n",
       "      <td>int</td>\n",
       "    </tr>\n",
       "    <tr>\n",
       "      <th>2</th>\n",
       "      <td>The number of residential aged care beds</td>\n",
       "      <td>3</td>\n",
       "      <td>places</td>\n",
       "      <td>separate_admin</td>\n",
       "      <td>int</td>\n",
       "    </tr>\n",
       "    <tr>\n",
       "      <th>3</th>\n",
       "      <td>The occupancy levels for each year</td>\n",
       "      <td>4</td>\n",
       "      <td>occupancy</td>\n",
       "      <td>separate_admin</td>\n",
       "      <td>int</td>\n",
       "    </tr>\n",
       "    <tr>\n",
       "      <th>4</th>\n",
       "      <td>The percentage occupancy levels based on place...</td>\n",
       "      <td>5</td>\n",
       "      <td>pctoccupant</td>\n",
       "      <td>separate_admin</td>\n",
       "      <td>int</td>\n",
       "    </tr>\n",
       "  </tbody>\n",
       "</table>\n",
       "</div>"
      ],
      "text/plain": [
       "                                         description  id         name  \\\n",
       "0                                   Population state   1        state   \n",
       "1                                    Population year   2         year   \n",
       "2           The number of residential aged care beds   3       places   \n",
       "3                 The occupancy levels for each year   4    occupancy   \n",
       "4  The percentage occupancy levels based on place...   5  pctoccupant   \n",
       "\n",
       "           t_able    type  \n",
       "0  separate_admin  object  \n",
       "1  separate_admin     int  \n",
       "2  separate_admin     int  \n",
       "3  separate_admin     int  \n",
       "4  separate_admin     int  "
      ]
     },
     "execution_count": 6,
     "metadata": {},
     "output_type": "execute_result"
    }
   ],
   "source": [
    "# Query the data dictionary from the database\n",
    "data=Q('select * from data_dic')\n",
    "data.head()"
   ]
  },
  {
   "cell_type": "markdown",
   "metadata": {},
   "source": [
    "# Perform EDA\n",
    "\n",
    "### Below are the following data tables used:\n",
    "* Total NSW aged care residents from 2008 to 2017\n",
    "* Estimated total NSW population over and including 65 from 2008 to 2061\n",
    "* Residential aged care facilities in Australia from 2011 to 2017\n",
    "\n",
    "### Variables of interest are:\n",
    "* State\n",
    "* Year\n",
    "* Places - The number of residential aged care beds\n",
    "* Pctplaces - Percentage of places against population\n",
    "* The occupancy levels for each year\n",
    "* A_65 Population/ estimated population for high fertility scenario"
   ]
  },
  {
   "cell_type": "code",
   "execution_count": 7,
   "metadata": {},
   "outputs": [
    {
     "data": {
      "text/html": [
       "<div>\n",
       "<style scoped>\n",
       "    .dataframe tbody tr th:only-of-type {\n",
       "        vertical-align: middle;\n",
       "    }\n",
       "\n",
       "    .dataframe tbody tr th {\n",
       "        vertical-align: top;\n",
       "    }\n",
       "\n",
       "    .dataframe thead th {\n",
       "        text-align: right;\n",
       "    }\n",
       "</style>\n",
       "<table border=\"1\" class=\"dataframe\">\n",
       "  <thead>\n",
       "    <tr style=\"text-align: right;\">\n",
       "      <th></th>\n",
       "      <th>state</th>\n",
       "      <th>year</th>\n",
       "      <th>places</th>\n",
       "      <th>occupancy</th>\n",
       "      <th>pctoccupant</th>\n",
       "      <th>A_65</th>\n",
       "      <th>B_65</th>\n",
       "      <th>C_65</th>\n",
       "    </tr>\n",
       "  </thead>\n",
       "  <tbody>\n",
       "    <tr>\n",
       "      <th>0</th>\n",
       "      <td>NSW</td>\n",
       "      <td>2008</td>\n",
       "      <td>59034</td>\n",
       "      <td>55315</td>\n",
       "      <td>93.7</td>\n",
       "      <td>961243</td>\n",
       "      <td>961068</td>\n",
       "      <td>960895</td>\n",
       "    </tr>\n",
       "    <tr>\n",
       "      <th>1</th>\n",
       "      <td>NSW</td>\n",
       "      <td>2009</td>\n",
       "      <td>60397</td>\n",
       "      <td>55999</td>\n",
       "      <td>92.7</td>\n",
       "      <td>986376</td>\n",
       "      <td>992888</td>\n",
       "      <td>992064</td>\n",
       "    </tr>\n",
       "    <tr>\n",
       "      <th>2</th>\n",
       "      <td>NSW</td>\n",
       "      <td>2010</td>\n",
       "      <td>61909</td>\n",
       "      <td>57196</td>\n",
       "      <td>92.4</td>\n",
       "      <td>1019316</td>\n",
       "      <td>1018346</td>\n",
       "      <td>1016765</td>\n",
       "    </tr>\n",
       "    <tr>\n",
       "      <th>3</th>\n",
       "      <td>NSW</td>\n",
       "      <td>2011</td>\n",
       "      <td>63044</td>\n",
       "      <td>58596</td>\n",
       "      <td>92.9</td>\n",
       "      <td>1046233</td>\n",
       "      <td>1051435</td>\n",
       "      <td>1048479</td>\n",
       "    </tr>\n",
       "    <tr>\n",
       "      <th>4</th>\n",
       "      <td>NSW</td>\n",
       "      <td>2012</td>\n",
       "      <td>63891</td>\n",
       "      <td>59137</td>\n",
       "      <td>92.6</td>\n",
       "      <td>1088287</td>\n",
       "      <td>1092284</td>\n",
       "      <td>1087742</td>\n",
       "    </tr>\n",
       "  </tbody>\n",
       "</table>\n",
       "</div>"
      ],
      "text/plain": [
       "  state  year places occupancy pctoccupant     A_65     B_65     C_65\n",
       "0   NSW  2008  59034     55315        93.7   961243   961068   960895\n",
       "1   NSW  2009  60397     55999        92.7   986376   992888   992064\n",
       "2   NSW  2010  61909     57196        92.4  1019316  1018346  1016765\n",
       "3   NSW  2011  63044     58596        92.9  1046233  1051435  1048479\n",
       "4   NSW  2012  63891     59137        92.6  1088287  1092284  1087742"
      ]
     },
     "execution_count": 7,
     "metadata": {},
     "output_type": "execute_result"
    }
   ],
   "source": [
    "# Select residential places in NSW and the ageing population\n",
    "\n",
    "total_NSW=Q('SELECT * FROM separate_admin WHERE separate_admin.\"state\" = \"NSW\"')\n",
    "total_NSW.head()"
   ]
  },
  {
   "cell_type": "code",
   "execution_count": 8,
   "metadata": {},
   "outputs": [
    {
     "data": {
      "text/html": [
       "<div>\n",
       "<style scoped>\n",
       "    .dataframe tbody tr th:only-of-type {\n",
       "        vertical-align: middle;\n",
       "    }\n",
       "\n",
       "    .dataframe tbody tr th {\n",
       "        vertical-align: top;\n",
       "    }\n",
       "\n",
       "    .dataframe thead th {\n",
       "        text-align: right;\n",
       "    }\n",
       "</style>\n",
       "<table border=\"1\" class=\"dataframe\">\n",
       "  <thead>\n",
       "    <tr style=\"text-align: right;\">\n",
       "      <th></th>\n",
       "      <th>PhysicalAddressState</th>\n",
       "      <th>Year</th>\n",
       "      <th>ResBeds</th>\n",
       "    </tr>\n",
       "  </thead>\n",
       "  <tbody>\n",
       "    <tr>\n",
       "      <th>0</th>\n",
       "      <td>NSW</td>\n",
       "      <td>2011-2012</td>\n",
       "      <td>83843.0</td>\n",
       "    </tr>\n",
       "    <tr>\n",
       "      <th>1</th>\n",
       "      <td>NSW</td>\n",
       "      <td>2012-2013</td>\n",
       "      <td>65814.0</td>\n",
       "    </tr>\n",
       "    <tr>\n",
       "      <th>2</th>\n",
       "      <td>NSW</td>\n",
       "      <td>2013-2014</td>\n",
       "      <td>66780.0</td>\n",
       "    </tr>\n",
       "    <tr>\n",
       "      <th>3</th>\n",
       "      <td>NSW</td>\n",
       "      <td>2014-2015</td>\n",
       "      <td>67258.0</td>\n",
       "    </tr>\n",
       "    <tr>\n",
       "      <th>4</th>\n",
       "      <td>NSW</td>\n",
       "      <td>2015-2016</td>\n",
       "      <td>68228.0</td>\n",
       "    </tr>\n",
       "    <tr>\n",
       "      <th>5</th>\n",
       "      <td>NSW</td>\n",
       "      <td>2016-2017</td>\n",
       "      <td>70050.0</td>\n",
       "    </tr>\n",
       "  </tbody>\n",
       "</table>\n",
       "</div>"
      ],
      "text/plain": [
       "  PhysicalAddressState       Year  ResBeds\n",
       "0                  NSW  2011-2012  83843.0\n",
       "1                  NSW  2012-2013  65814.0\n",
       "2                  NSW  2013-2014  66780.0\n",
       "3                  NSW  2014-2015  67258.0\n",
       "4                  NSW  2015-2016  68228.0\n",
       "5                  NSW  2016-2017  70050.0"
      ]
     },
     "execution_count": 8,
     "metadata": {},
     "output_type": "execute_result"
    }
   ],
   "source": [
    "# Select residential aged care facilities in NSW from 2011 to 2017\n",
    "\n",
    "SQL_STRING = '''\n",
    "\n",
    "SELECT \"PhysicalAddressState\",\"Year\",SUM(Residential) AS ResBeds\n",
    "FROM NSWservicelist\n",
    "WHERE \"PhysicalAddressState\"= 'NSW'\n",
    "GROUP BY \"PhysicalAddressState\",\"Year\";\n",
    "'''\n",
    "NSW_res = pd.read_sql(SQL_STRING, con=conn)\n",
    "NSW_res"
   ]
  },
  {
   "cell_type": "markdown",
   "metadata": {},
   "source": [
    "### Slicing, dicing and merging tables"
   ]
  },
  {
   "cell_type": "code",
   "execution_count": 9,
   "metadata": {},
   "outputs": [],
   "source": [
    "# Rename column\n",
    "NSW_res.rename(columns={'Year':'FinYear'}, inplace=True)"
   ]
  },
  {
   "cell_type": "code",
   "execution_count": 10,
   "metadata": {},
   "outputs": [
    {
     "data": {
      "text/html": [
       "<div>\n",
       "<style scoped>\n",
       "    .dataframe tbody tr th:only-of-type {\n",
       "        vertical-align: middle;\n",
       "    }\n",
       "\n",
       "    .dataframe tbody tr th {\n",
       "        vertical-align: top;\n",
       "    }\n",
       "\n",
       "    .dataframe thead th {\n",
       "        text-align: right;\n",
       "    }\n",
       "</style>\n",
       "<table border=\"1\" class=\"dataframe\">\n",
       "  <thead>\n",
       "    <tr style=\"text-align: right;\">\n",
       "      <th></th>\n",
       "      <th>PhysicalAddressState</th>\n",
       "      <th>FinYear</th>\n",
       "      <th>ResBeds</th>\n",
       "      <th>year</th>\n",
       "    </tr>\n",
       "  </thead>\n",
       "  <tbody>\n",
       "    <tr>\n",
       "      <th>0</th>\n",
       "      <td>NSW</td>\n",
       "      <td>2011-2012</td>\n",
       "      <td>83843.0</td>\n",
       "      <td>2012</td>\n",
       "    </tr>\n",
       "    <tr>\n",
       "      <th>1</th>\n",
       "      <td>NSW</td>\n",
       "      <td>2012-2013</td>\n",
       "      <td>65814.0</td>\n",
       "      <td>2013</td>\n",
       "    </tr>\n",
       "    <tr>\n",
       "      <th>2</th>\n",
       "      <td>NSW</td>\n",
       "      <td>2013-2014</td>\n",
       "      <td>66780.0</td>\n",
       "      <td>2014</td>\n",
       "    </tr>\n",
       "    <tr>\n",
       "      <th>3</th>\n",
       "      <td>NSW</td>\n",
       "      <td>2014-2015</td>\n",
       "      <td>67258.0</td>\n",
       "      <td>2015</td>\n",
       "    </tr>\n",
       "    <tr>\n",
       "      <th>4</th>\n",
       "      <td>NSW</td>\n",
       "      <td>2015-2016</td>\n",
       "      <td>68228.0</td>\n",
       "      <td>2016</td>\n",
       "    </tr>\n",
       "    <tr>\n",
       "      <th>5</th>\n",
       "      <td>NSW</td>\n",
       "      <td>2016-2017</td>\n",
       "      <td>70050.0</td>\n",
       "      <td>2017</td>\n",
       "    </tr>\n",
       "  </tbody>\n",
       "</table>\n",
       "</div>"
      ],
      "text/plain": [
       "  PhysicalAddressState    FinYear  ResBeds  year\n",
       "0                  NSW  2011-2012  83843.0  2012\n",
       "1                  NSW  2012-2013  65814.0  2013\n",
       "2                  NSW  2013-2014  66780.0  2014\n",
       "3                  NSW  2014-2015  67258.0  2015\n",
       "4                  NSW  2015-2016  68228.0  2016\n",
       "5                  NSW  2016-2017  70050.0  2017"
      ]
     },
     "execution_count": 10,
     "metadata": {},
     "output_type": "execute_result"
    }
   ],
   "source": [
    "# rename year from string to integer\n",
    "NSW_res[\"year\"] = NSW_res[\"FinYear\"].map(lambda x: \"2012\" if \"2011-2012\" in x \n",
    "                                                else \"2013\" if \"2012-2013\" in x\n",
    "                                                else \"2014\" if \"2013-2014\" in x\n",
    "                                                else \"2015\" if \"2014-2015\" in x\n",
    "                                                else \"2016\" if \"2015-2016\" in x \n",
    "                                                else \"2017\" if \"2016-2017\" in x \n",
    "                                                else \"0\")\n",
    "NSW_res"
   ]
  },
  {
   "cell_type": "code",
   "execution_count": 11,
   "metadata": {},
   "outputs": [],
   "source": [
    "# merge table\n",
    "total_NSW = total_NSW.merge(NSW_res,how='left',on=['year'])"
   ]
  },
  {
   "cell_type": "code",
   "execution_count": 12,
   "metadata": {},
   "outputs": [],
   "source": [
    "# drop state column\n",
    "total_NSW=total_NSW.drop(['PhysicalAddressState'],axis=1)"
   ]
  },
  {
   "cell_type": "code",
   "execution_count": 13,
   "metadata": {},
   "outputs": [],
   "source": [
    "# Remove NaN\n",
    "total_NSW.ResBeds = total_NSW.ResBeds.fillna('')"
   ]
  },
  {
   "cell_type": "code",
   "execution_count": 16,
   "metadata": {},
   "outputs": [
    {
     "name": "stderr",
     "output_type": "stream",
     "text": [
      "C:\\Users\\lynn_\\Anaconda3\\lib\\site-packages\\ipykernel_launcher.py:3: FutureWarning: convert_objects is deprecated.  To re-infer data dtypes for object columns, use Series.infer_objects()\n",
      "For all other conversions use the data-type specific converters pd.to_datetime, pd.to_timedelta and pd.to_numeric.\n",
      "  This is separate from the ipykernel package so we can avoid doing imports until\n",
      "C:\\Users\\lynn_\\Anaconda3\\lib\\site-packages\\ipykernel_launcher.py:4: FutureWarning: convert_objects is deprecated.  To re-infer data dtypes for object columns, use Series.infer_objects()\n",
      "For all other conversions use the data-type specific converters pd.to_datetime, pd.to_timedelta and pd.to_numeric.\n",
      "  after removing the cwd from sys.path.\n",
      "C:\\Users\\lynn_\\Anaconda3\\lib\\site-packages\\ipykernel_launcher.py:5: FutureWarning: convert_objects is deprecated.  To re-infer data dtypes for object columns, use Series.infer_objects()\n",
      "For all other conversions use the data-type specific converters pd.to_datetime, pd.to_timedelta and pd.to_numeric.\n",
      "  \"\"\"\n",
      "C:\\Users\\lynn_\\Anaconda3\\lib\\site-packages\\ipykernel_launcher.py:6: FutureWarning: convert_objects is deprecated.  To re-infer data dtypes for object columns, use Series.infer_objects()\n",
      "For all other conversions use the data-type specific converters pd.to_datetime, pd.to_timedelta and pd.to_numeric.\n",
      "  \n",
      "C:\\Users\\lynn_\\Anaconda3\\lib\\site-packages\\ipykernel_launcher.py:7: FutureWarning: convert_objects is deprecated.  To re-infer data dtypes for object columns, use Series.infer_objects()\n",
      "For all other conversions use the data-type specific converters pd.to_datetime, pd.to_timedelta and pd.to_numeric.\n",
      "  import sys\n",
      "C:\\Users\\lynn_\\Anaconda3\\lib\\site-packages\\ipykernel_launcher.py:8: FutureWarning: convert_objects is deprecated.  To re-infer data dtypes for object columns, use Series.infer_objects()\n",
      "For all other conversions use the data-type specific converters pd.to_datetime, pd.to_timedelta and pd.to_numeric.\n",
      "  \n",
      "C:\\Users\\lynn_\\Anaconda3\\lib\\site-packages\\ipykernel_launcher.py:9: FutureWarning: convert_objects is deprecated.  To re-infer data dtypes for object columns, use Series.infer_objects()\n",
      "For all other conversions use the data-type specific converters pd.to_datetime, pd.to_timedelta and pd.to_numeric.\n",
      "  if __name__ == '__main__':\n",
      "C:\\Users\\lynn_\\Anaconda3\\lib\\site-packages\\ipykernel_launcher.py:10: FutureWarning: convert_objects is deprecated.  To re-infer data dtypes for object columns, use Series.infer_objects()\n",
      "For all other conversions use the data-type specific converters pd.to_datetime, pd.to_timedelta and pd.to_numeric.\n",
      "  # Remove the CWD from sys.path while we load stuff.\n"
     ]
    }
   ],
   "source": [
    "# convert related columns to numeric\n",
    "\n",
    "total_NSW['year'] = total_NSW['year'].convert_objects(convert_numeric=True)\n",
    "total_NSW['places'] = total_NSW['places'].convert_objects(convert_numeric=True)\n",
    "total_NSW['occupancy'] = total_NSW['occupancy'].convert_objects(convert_numeric=True)\n",
    "total_NSW['pctoccupant'] = total_NSW['pctoccupant'].convert_objects(convert_numeric=True)\n",
    "total_NSW['A_65'] = total_NSW['A_65'].convert_objects(convert_numeric=True)\n",
    "total_NSW['B_65'] = total_NSW['B_65'].convert_objects(convert_numeric=True)\n",
    "total_NSW['C_65'] = total_NSW['C_65'].convert_objects(convert_numeric=True)\n",
    "total_NSW['C_65'] = total_NSW['C_65'].convert_objects(convert_numeric=True)"
   ]
  },
  {
   "cell_type": "code",
   "execution_count": 17,
   "metadata": {},
   "outputs": [],
   "source": [
    "# convert related columns to integer\n",
    "total_NSW.year = total_NSW.year.astype(int)\n",
    "total_NSW.places = total_NSW.places.astype(int)\n",
    "total_NSW.occupancy = total_NSW.occupancy.astype(int)\n",
    "total_NSW.A_65 = total_NSW.A_65.astype(int)\n",
    "total_NSW.B_65 = total_NSW.B_65.astype(int)\n",
    "total_NSW.C_65 = total_NSW.C_65.astype(int)"
   ]
  },
  {
   "cell_type": "code",
   "execution_count": 18,
   "metadata": {},
   "outputs": [],
   "source": [
    "# Create a new column for the percentage of places against population\n",
    "p=total_NSW.places\n",
    "b=total_NSW.A_65\n",
    "\n",
    "total_NSW['pctplaces']=((p/b)*100)"
   ]
  },
  {
   "cell_type": "code",
   "execution_count": 19,
   "metadata": {},
   "outputs": [],
   "source": [
    "# Create a new column for the percentage of occupancy against population\n",
    "p=total_NSW.occupancy\n",
    "b=total_NSW.A_65\n",
    "\n",
    "total_NSW['pctoccupant']=((p/b)*100)"
   ]
  },
  {
   "cell_type": "code",
   "execution_count": 20,
   "metadata": {},
   "outputs": [
    {
     "data": {
      "text/plain": [
       "count    54.000000\n",
       "mean      1.078244\n",
       "std       2.285531\n",
       "min       0.000000\n",
       "25%       0.000000\n",
       "50%       0.000000\n",
       "75%       0.000000\n",
       "max       6.141423\n",
       "Name: pctplaces, dtype: float64"
      ]
     },
     "execution_count": 20,
     "metadata": {},
     "output_type": "execute_result"
    }
   ],
   "source": [
    "total_NSW.pctplaces.describe()"
   ]
  },
  {
   "cell_type": "code",
   "execution_count": 21,
   "metadata": {},
   "outputs": [],
   "source": [
    "# Remove the NaN\n",
    "total_NSW.fillna(0, inplace=True)"
   ]
  },
  {
   "cell_type": "code",
   "execution_count": 22,
   "metadata": {},
   "outputs": [],
   "source": [
    "# Save the data to the database called total_NSW\n",
    "total_NSW.to_sql(name = 'total_NSW', con = conn, if_exists = 'replace', index = False)"
   ]
  },
  {
   "cell_type": "markdown",
   "metadata": {},
   "source": [
    "### Identifying outliners\n",
    "\n",
    "* The population data used is not granular. As such, it it assumed there is no outliners.\n",
    "* However, the location of each residential aged care facility was uploaded into Tableau to view the density of its positions. From here it was discovered that 2 facilities lies in the middle of the ocean. This is considered to be an outliner. However, since it was only 2 facilities, a decision was made to ignore the outliers as it has nominal impact on the models. "
   ]
  },
  {
   "cell_type": "markdown",
   "metadata": {},
   "source": [
    "### Data Imputation\n",
    "* No data imputation was required. Although the sample size was small, a prediction was possible"
   ]
  },
  {
   "cell_type": "markdown",
   "metadata": {},
   "source": [
    "### Checking the correlations"
   ]
  },
  {
   "cell_type": "code",
   "execution_count": 23,
   "metadata": {},
   "outputs": [
    {
     "name": "stdout",
     "output_type": "stream",
     "text": [
      "10990.666666666666 23077.987137818876\n",
      "3.9063402718292546e-17 0.9999999999999999\n"
     ]
    }
   ],
   "source": [
    "# Checking the occupancy mean\n",
    "v = total_NSW.occupancy.values\n",
    "v_mean = np.mean(v)\n",
    "v_std = np.std(v)\n",
    "print(v_mean, v_std)\n",
    "\n",
    "v_stand = (v - v_mean) / v_std\n",
    "print(np.mean(v_stand), np.std(v_stand))\n",
    "# not exactly a mean of 0 but excruciatingly close"
   ]
  },
  {
   "cell_type": "code",
   "execution_count": 24,
   "metadata": {},
   "outputs": [
    {
     "name": "stdout",
     "output_type": "stream",
     "text": [
      "1964089.611111111 619181.518892314\n",
      "1.7270135938613546e-16 1.0000000000000002\n"
     ]
    }
   ],
   "source": [
    "# Checking the population mean\n",
    "m = total_NSW.A_65.values\n",
    "m_mean = np.mean(m)\n",
    "m_std = np.std(m)\n",
    "print(m_mean, m_std)\n",
    "\n",
    "m_stand = (m - m_mean) / m_std\n",
    "print(np.mean(m_stand), np.std(m_stand))"
   ]
  },
  {
   "cell_type": "code",
   "execution_count": 25,
   "metadata": {},
   "outputs": [
    {
     "name": "stdout",
     "output_type": "stream",
     "text": [
      "1.078244459439065 2.2642696165484186\n",
      "-867426.9700534366 0.9999999999845177\n"
     ]
    }
   ],
   "source": [
    "# checking the occupancy/population mean\n",
    "r = total_NSW.pctplaces.values\n",
    "r_mean = np.mean(r)\n",
    "r_std = np.std(r)\n",
    "print(r_mean, r_std)\n",
    "\n",
    "r_stand = (r - m_mean) / r_std\n",
    "print(np.mean(r_stand), np.std(r_stand))"
   ]
  },
  {
   "cell_type": "code",
   "execution_count": 26,
   "metadata": {},
   "outputs": [
    {
     "data": {
      "text/plain": [
       "<matplotlib.axes._subplots.AxesSubplot at 0x18b0fd7c5f8>"
      ]
     },
     "execution_count": 26,
     "metadata": {},
     "output_type": "execute_result"
    },
    {
     "data": {
      "image/png": "[encoded data removed]",
      "text/plain": [
       "<matplotlib.figure.Figure at 0x18b0fc9dfd0>"
      ]
     },
     "metadata": {
      "image/png": {
       "height": 300,
       "width": 614
      }
     },
     "output_type": "display_data"
    }
   ],
   "source": [
    "# check the trend of occupancy against population\n",
    "total_NSW[['places', 'A_65']].plot(kind='bar', stacked=True, figsize=(10,5))"
   ]
  },
  {
   "cell_type": "code",
   "execution_count": 27,
   "metadata": {},
   "outputs": [
    {
     "name": "stdout",
     "output_type": "stream",
     "text": [
      "                 year    places  occupancy  pctoccupant      A_65      B_65  \\\n",
      "year         1.000000 -0.668075  -0.668670    -0.676118  0.999337  0.996783   \n",
      "places      -0.668075  1.000000   0.999971     0.994769 -0.656940 -0.704218   \n",
      "occupancy   -0.668670  0.999971   1.000000     0.995310 -0.657470 -0.704839   \n",
      "pctoccupant -0.676118  0.994769   0.995310     1.000000 -0.663767 -0.712484   \n",
      "A_65         0.999337 -0.656940  -0.657470    -0.663767  1.000000  0.995537   \n",
      "B_65         0.996783 -0.704218  -0.704839    -0.712484  0.995537  1.000000   \n",
      "C_65         0.996964 -0.703036  -0.703644    -0.711100  0.995656  0.999966   \n",
      "pctplaces   -0.675873  0.995299   0.995784     0.999973 -0.663582 -0.712234   \n",
      "\n",
      "                 C_65  pctplaces  \n",
      "year         0.996964  -0.675873  \n",
      "places      -0.703036   0.995299  \n",
      "occupancy   -0.703644   0.995784  \n",
      "pctoccupant -0.711100   0.999973  \n",
      "A_65         0.995656  -0.663582  \n",
      "B_65         0.999966  -0.712234  \n",
      "C_65         1.000000  -0.710861  \n",
      "pctplaces   -0.710861   1.000000  \n"
     ]
    }
   ],
   "source": [
    "# check correlation\n",
    "print(total_NSW.corr())\n",
    "\n",
    "# The values positively correlated are year and population\n",
    "# The values negatively correlated are year, residential places, occupancy, population"
   ]
  },
  {
   "cell_type": "code",
   "execution_count": 28,
   "metadata": {},
   "outputs": [
    {
     "data": {
      "text/plain": [
       "<matplotlib.axes._subplots.AxesSubplot at 0x18b120523c8>"
      ]
     },
     "execution_count": 28,
     "metadata": {},
     "output_type": "execute_result"
    },
    {
     "data": {
      "image/png": "[encoded data removed]",
      "text/plain": [
       "<matplotlib.figure.Figure at 0x18b12073da0>"
      ]
     },
     "metadata": {
      "image/png": {
       "height": 299,
       "width": 582
      }
     },
     "output_type": "display_data"
    }
   ],
   "source": [
    "# Check correlation via heatmap\n",
    "plt.figure(figsize=(10,5))\n",
    "sns.heatmap(total_NSW.corr(), annot=True)\n",
    "\n",
    "# The values positively correlated are year and population\n",
    "# The values negatively correlated are year, residential places, occupancy, population"
   ]
  },
  {
   "cell_type": "code",
   "execution_count": 29,
   "metadata": {},
   "outputs": [
    {
     "data": {
      "text/html": [
       "<div>\n",
       "<style scoped>\n",
       "    .dataframe tbody tr th:only-of-type {\n",
       "        vertical-align: middle;\n",
       "    }\n",
       "\n",
       "    .dataframe tbody tr th {\n",
       "        vertical-align: top;\n",
       "    }\n",
       "\n",
       "    .dataframe thead th {\n",
       "        text-align: right;\n",
       "    }\n",
       "</style>\n",
       "<table border=\"1\" class=\"dataframe\">\n",
       "  <thead>\n",
       "    <tr style=\"text-align: right;\">\n",
       "      <th></th>\n",
       "      <th>PhysicalAddressSuburb</th>\n",
       "      <th>Year</th>\n",
       "      <th>ResBeds</th>\n",
       "    </tr>\n",
       "  </thead>\n",
       "  <tbody>\n",
       "    <tr>\n",
       "      <th>0</th>\n",
       "      <td>BEXLEY</td>\n",
       "      <td>2016-2017</td>\n",
       "      <td>906</td>\n",
       "    </tr>\n",
       "    <tr>\n",
       "      <th>1</th>\n",
       "      <td>CASTLE HILL</td>\n",
       "      <td>2016-2017</td>\n",
       "      <td>861</td>\n",
       "    </tr>\n",
       "    <tr>\n",
       "      <th>2</th>\n",
       "      <td>ASHFIELD</td>\n",
       "      <td>2016-2017</td>\n",
       "      <td>695</td>\n",
       "    </tr>\n",
       "    <tr>\n",
       "      <th>3</th>\n",
       "      <td>PORT MACQUARIE</td>\n",
       "      <td>2016-2017</td>\n",
       "      <td>676</td>\n",
       "    </tr>\n",
       "    <tr>\n",
       "      <th>4</th>\n",
       "      <td>GLENFIELD</td>\n",
       "      <td>2016-2017</td>\n",
       "      <td>601</td>\n",
       "    </tr>\n",
       "  </tbody>\n",
       "</table>\n",
       "</div>"
      ],
      "text/plain": [
       "  PhysicalAddressSuburb       Year  ResBeds\n",
       "0                BEXLEY  2016-2017      906\n",
       "1           CASTLE HILL  2016-2017      861\n",
       "2              ASHFIELD  2016-2017      695\n",
       "3        PORT MACQUARIE  2016-2017      676\n",
       "4             GLENFIELD  2016-2017      601"
      ]
     },
     "execution_count": 29,
     "metadata": {},
     "output_type": "execute_result"
    }
   ],
   "source": [
    "# Determine the residential beds based on suburbs for 2016-2017\n",
    "SQL_STRING = '''\n",
    "\n",
    "SELECT \"PhysicalAddressSuburb\",\"Year\",SUM(\"Residential\") AS ResBeds\n",
    "FROM NSWservicelist\n",
    "WHERE \"PhysicalAddressState\"= 'NSW' and \"Year\"='2016-2017' and \"CareType\"='Residential'\n",
    "GROUP BY \"PhysicalAddressSuburb\",\"Year\"\n",
    "ORDER BY \"ResBeds\" DESC;\n",
    "'''\n",
    "NSW_res1 = pd.read_sql(SQL_STRING, con=conn)\n",
    "NSW_res1.head()\n",
    "\n",
    "# Bexley has the highest residential beds"
   ]
  },
  {
   "cell_type": "code",
   "execution_count": 30,
   "metadata": {},
   "outputs": [
    {
     "data": {
      "text/html": [
       "<div>\n",
       "<style scoped>\n",
       "    .dataframe tbody tr th:only-of-type {\n",
       "        vertical-align: middle;\n",
       "    }\n",
       "\n",
       "    .dataframe tbody tr th {\n",
       "        vertical-align: top;\n",
       "    }\n",
       "\n",
       "    .dataframe thead th {\n",
       "        text-align: right;\n",
       "    }\n",
       "</style>\n",
       "<table border=\"1\" class=\"dataframe\">\n",
       "  <thead>\n",
       "    <tr style=\"text-align: right;\">\n",
       "      <th></th>\n",
       "      <th>PhysicalAddressSuburb</th>\n",
       "      <th>Servicename</th>\n",
       "      <th>ResBeds</th>\n",
       "    </tr>\n",
       "  </thead>\n",
       "  <tbody>\n",
       "    <tr>\n",
       "      <th>0</th>\n",
       "      <td>GLENFIELD</td>\n",
       "      <td>The Whiddon Group - Glenfield</td>\n",
       "      <td>356</td>\n",
       "    </tr>\n",
       "    <tr>\n",
       "      <th>1</th>\n",
       "      <td>HUNTERS HILL</td>\n",
       "      <td>Hunters Hill Montefiore Home</td>\n",
       "      <td>333</td>\n",
       "    </tr>\n",
       "    <tr>\n",
       "      <th>2</th>\n",
       "      <td>CESSNOCK</td>\n",
       "      <td>Calvary Cessnock Retirement Community</td>\n",
       "      <td>296</td>\n",
       "    </tr>\n",
       "    <tr>\n",
       "      <th>3</th>\n",
       "      <td>NARRABEEN</td>\n",
       "      <td>RSL ANZAC Village</td>\n",
       "      <td>293</td>\n",
       "    </tr>\n",
       "    <tr>\n",
       "      <th>4</th>\n",
       "      <td>BELROSE</td>\n",
       "      <td>Uniting Wesley Gardens Belrose</td>\n",
       "      <td>285</td>\n",
       "    </tr>\n",
       "  </tbody>\n",
       "</table>\n",
       "</div>"
      ],
      "text/plain": [
       "  PhysicalAddressSuburb                            Servicename  ResBeds\n",
       "0             GLENFIELD          The Whiddon Group - Glenfield      356\n",
       "1          HUNTERS HILL           Hunters Hill Montefiore Home      333\n",
       "2              CESSNOCK  Calvary Cessnock Retirement Community      296\n",
       "3             NARRABEEN                      RSL ANZAC Village      293\n",
       "4               BELROSE         Uniting Wesley Gardens Belrose      285"
      ]
     },
     "execution_count": 30,
     "metadata": {},
     "output_type": "execute_result"
    }
   ],
   "source": [
    "# Determine the residential beds based on facility and facilities for 2016-2017\n",
    "SQL_STRING = '''\n",
    "\n",
    "SELECT \"PhysicalAddressSuburb\",\"Servicename\",SUM(\"Residential\") AS ResBeds\n",
    "FROM NSWservicelist\n",
    "WHERE \"PhysicalAddressState\"= 'NSW' and \"Year\"='2016-2017' and \"CareType\"='Residential'\n",
    "GROUP BY \"PhysicalAddressSuburb\",\"Servicename\"\n",
    "ORDER BY \"ResBeds\" DESC;\n",
    "'''\n",
    "NSW_res2 = pd.read_sql(SQL_STRING, con=conn)\n",
    "NSW_res2.head()\n",
    "\n",
    "# A facility in Glenfield has the highest residential beds"
   ]
  },
  {
   "cell_type": "code",
   "execution_count": null,
   "metadata": {},
   "outputs": [],
   "source": []
  },
  {
   "cell_type": "markdown",
   "metadata": {},
   "source": [
    "## Determining the distance of the aged facilities from specific locations to identify feature selections\n",
    "\n",
    "### Assumption\n",
    "* The level of government funding provided based on 2017 numbers for each facility is based on the features identified"
   ]
  },
  {
   "cell_type": "markdown",
   "metadata": {},
   "source": [
    "###### Longitude and Latitude of following locations:\n",
    "* Sydney CBD - (151.209900, -33.865143)\n",
    "* Prince Alfred Hospital - (151.1826, -33.8895)\n",
    "* Prince of Wales Hospital (Ranwick) - (151.2387, -33.9190)\n",
    "* St Vincent's Hospital - (151.2208, -33.8805)\n",
    "* St George Hospital - (151.1335, -33.9676)\n",
    "* Bondi Beach - (151.274292, -33.89084)\n",
    "* Coogee Beach - (151.2555, -33.9190)\n",
    "* Maroubra Beach - (151.2437, -33.9495)\n",
    "* Clovelly Beach - (151.266261, -33.913396)\n",
    "* Bondi Junction - (151.2497, -33.8914)"
   ]
  },
  {
   "cell_type": "code",
   "execution_count": 31,
   "metadata": {},
   "outputs": [
    {
     "data": {
      "text/html": [
       "<div>\n",
       "<style scoped>\n",
       "    .dataframe tbody tr th:only-of-type {\n",
       "        vertical-align: middle;\n",
       "    }\n",
       "\n",
       "    .dataframe tbody tr th {\n",
       "        vertical-align: top;\n",
       "    }\n",
       "\n",
       "    .dataframe thead th {\n",
       "        text-align: right;\n",
       "    }\n",
       "</style>\n",
       "<table border=\"1\" class=\"dataframe\">\n",
       "  <thead>\n",
       "    <tr style=\"text-align: right;\">\n",
       "      <th></th>\n",
       "      <th>Servicename</th>\n",
       "      <th>PhysicalAddressSuburb</th>\n",
       "      <th>Year</th>\n",
       "      <th>Residential</th>\n",
       "      <th>AustralianGovernmentFunding</th>\n",
       "      <th>Longitude</th>\n",
       "      <th>Latitude</th>\n",
       "    </tr>\n",
       "  </thead>\n",
       "  <tbody>\n",
       "    <tr>\n",
       "      <th>0</th>\n",
       "      <td>St Basil's Annandale</td>\n",
       "      <td>ANNANDALE</td>\n",
       "      <td>2016-2017</td>\n",
       "      <td>83</td>\n",
       "      <td>5146461</td>\n",
       "      <td>151.1727327</td>\n",
       "      <td>-33.87589048</td>\n",
       "    </tr>\n",
       "    <tr>\n",
       "      <th>1</th>\n",
       "      <td>Macquarie Lodge Aged Care Plus Centre</td>\n",
       "      <td>ARNCLIFFE</td>\n",
       "      <td>2016-2017</td>\n",
       "      <td>130</td>\n",
       "      <td>8788135</td>\n",
       "      <td>151.1348558</td>\n",
       "      <td>-33.93965582</td>\n",
       "    </tr>\n",
       "    <tr>\n",
       "      <th>2</th>\n",
       "      <td>A H Orr Lodge</td>\n",
       "      <td>ASHFIELD</td>\n",
       "      <td>2016-2017</td>\n",
       "      <td>60</td>\n",
       "      <td>3258005</td>\n",
       "      <td>151.1258414</td>\n",
       "      <td>-33.89495522</td>\n",
       "    </tr>\n",
       "    <tr>\n",
       "      <th>3</th>\n",
       "      <td>Opal Cardinal Freeman</td>\n",
       "      <td>ASHFIELD</td>\n",
       "      <td>2016-2017</td>\n",
       "      <td>135</td>\n",
       "      <td>5584660</td>\n",
       "      <td>151.127894</td>\n",
       "      <td>-33.89595</td>\n",
       "    </tr>\n",
       "    <tr>\n",
       "      <th>4</th>\n",
       "      <td>Weeroona Aged Care Plus Centre</td>\n",
       "      <td>BASS HILL</td>\n",
       "      <td>2016-2017</td>\n",
       "      <td>104</td>\n",
       "      <td>7057385</td>\n",
       "      <td>151.0034707</td>\n",
       "      <td>-33.89957214</td>\n",
       "    </tr>\n",
       "  </tbody>\n",
       "</table>\n",
       "</div>"
      ],
      "text/plain": [
       "                             Servicename PhysicalAddressSuburb       Year  \\\n",
       "0                   St Basil's Annandale             ANNANDALE  2016-2017   \n",
       "1  Macquarie Lodge Aged Care Plus Centre             ARNCLIFFE  2016-2017   \n",
       "2                          A H Orr Lodge              ASHFIELD  2016-2017   \n",
       "3                  Opal Cardinal Freeman              ASHFIELD  2016-2017   \n",
       "4         Weeroona Aged Care Plus Centre             BASS HILL  2016-2017   \n",
       "\n",
       "  Residential AustralianGovernmentFunding    Longitude      Latitude  \n",
       "0          83                     5146461  151.1727327  -33.87589048  \n",
       "1         130                     8788135  151.1348558  -33.93965582  \n",
       "2          60                     3258005  151.1258414  -33.89495522  \n",
       "3         135                     5584660   151.127894     -33.89595  \n",
       "4         104                     7057385  151.0034707  -33.89957214  "
      ]
     },
     "execution_count": 31,
     "metadata": {},
     "output_type": "execute_result"
    }
   ],
   "source": [
    "# selec the residential aged care facilities for 2016-2017\n",
    "\n",
    "SQL_STRING = '''\n",
    "\n",
    "SELECT \"Servicename\",\"PhysicalAddressSuburb\",\"Year\",\"Residential\",\"AustralianGovernmentFunding\",\"Longitude\",\"Latitude\"\n",
    "FROM  NSWservicelist\n",
    "WHERE YEAR IN ('2016-2017') and ABSRemoteness='Major Cities of Australia' and CareType='Residential'\n",
    "'''\n",
    "service = pd.read_sql(SQL_STRING, con=conn) \n",
    "service.head()"
   ]
  },
  {
   "cell_type": "code",
   "execution_count": 32,
   "metadata": {},
   "outputs": [
    {
     "name": "stdout",
     "output_type": "stream",
     "text": [
      "<class 'pandas.core.frame.DataFrame'>\n",
      "RangeIndex: 555 entries, 0 to 554\n",
      "Data columns (total 7 columns):\n",
      "Servicename                    555 non-null object\n",
      "PhysicalAddressSuburb          555 non-null object\n",
      "Year                           555 non-null object\n",
      "Residential                    555 non-null object\n",
      "AustralianGovernmentFunding    555 non-null object\n",
      "Longitude                      555 non-null object\n",
      "Latitude                       555 non-null object\n",
      "dtypes: object(7)\n",
      "memory usage: 30.4+ KB\n"
     ]
    }
   ],
   "source": [
    "# Check field type. Longitute and Latitute needs to be converted to numeric\n",
    "service.info()"
   ]
  },
  {
   "cell_type": "code",
   "execution_count": 33,
   "metadata": {},
   "outputs": [
    {
     "name": "stderr",
     "output_type": "stream",
     "text": [
      "C:\\Users\\lynn_\\Anaconda3\\lib\\site-packages\\ipykernel_launcher.py:2: FutureWarning: convert_objects is deprecated.  To re-infer data dtypes for object columns, use Series.infer_objects()\n",
      "For all other conversions use the data-type specific converters pd.to_datetime, pd.to_timedelta and pd.to_numeric.\n",
      "  \n",
      "C:\\Users\\lynn_\\Anaconda3\\lib\\site-packages\\ipykernel_launcher.py:3: FutureWarning: convert_objects is deprecated.  To re-infer data dtypes for object columns, use Series.infer_objects()\n",
      "For all other conversions use the data-type specific converters pd.to_datetime, pd.to_timedelta and pd.to_numeric.\n",
      "  This is separate from the ipykernel package so we can avoid doing imports until\n",
      "C:\\Users\\lynn_\\Anaconda3\\lib\\site-packages\\ipykernel_launcher.py:4: FutureWarning: convert_objects is deprecated.  To re-infer data dtypes for object columns, use Series.infer_objects()\n",
      "For all other conversions use the data-type specific converters pd.to_datetime, pd.to_timedelta and pd.to_numeric.\n",
      "  after removing the cwd from sys.path.\n",
      "C:\\Users\\lynn_\\Anaconda3\\lib\\site-packages\\ipykernel_launcher.py:5: FutureWarning: convert_objects is deprecated.  To re-infer data dtypes for object columns, use Series.infer_objects()\n",
      "For all other conversions use the data-type specific converters pd.to_datetime, pd.to_timedelta and pd.to_numeric.\n",
      "  \"\"\"\n"
     ]
    }
   ],
   "source": [
    "# convert the fields to numeric\n",
    "service['Longitude'] = service['Longitude'].convert_objects(convert_numeric=True)\n",
    "service['Latitude'] = service['Latitude'].convert_objects(convert_numeric=True)\n",
    "service['AustralianGovernmentFunding'] = service['AustralianGovernmentFunding'].convert_objects(convert_numeric=True)\n",
    "service['Residential'] = service['Residential'].convert_objects(convert_numeric=True)"
   ]
  },
  {
   "cell_type": "code",
   "execution_count": 34,
   "metadata": {},
   "outputs": [],
   "source": [
    "# Distance from Clovelly Beach\n",
    "def haversine_np(lon1, lat1, lon2, lat2):\n",
    "    \"\"\"\n",
    "    Calculate the great circle distance between two points\n",
    "    on the earth (specified in decimal degrees)\n",
    "\n",
    "    All args must be of equal length.    \n",
    "\n",
    "    \"\"\"\n",
    "    lon1, lat1, lon2, lat2 = map(np.radians, [lon1, lat1, lon2, lat2])\n",
    "\n",
    "    dlon = lon2 - lon1\n",
    "    dlat = lat2 - lat1\n",
    "\n",
    "    a = np.sin(dlat/2.0)**2 + np.cos(lat1) * np.cos(lat2) * np.sin(dlon/2.0)**2\n",
    "\n",
    "    c = 2 * np.arcsin(np.sqrt(a))\n",
    "    km = 6367 * c\n",
    "    return km\n",
    "\n",
    "service['dist_Clovelly'] = \\\n",
    "    haversine_np(service.Longitude.shift(0), service.Latitude.shift(0),\n",
    "                 (151.266261), (-33.913396))"
   ]
  },
  {
   "cell_type": "code",
   "execution_count": 35,
   "metadata": {},
   "outputs": [],
   "source": [
    "# Distance from Bondi Junction\n",
    "def haversine_np(lon3, lat3, lon4, lat4):\n",
    "    \"\"\"\n",
    "    Calculate the great circle distance between two points\n",
    "    on the earth (specified in decimal degrees)\n",
    "\n",
    "    All args must be of equal length.    \n",
    "\n",
    "    \"\"\"\n",
    "    lon3, lat3, lon4, lat4 = map(np.radians, [lon3, lat3, lon4, lat4])\n",
    "\n",
    "    dlon = lon4 - lon3\n",
    "    dlat = lat4 - lat3\n",
    "\n",
    "    a = np.sin(dlat/2.0)**2 + np.cos(lat3) * np.cos(lat4) * np.sin(dlon/2.0)**2\n",
    "\n",
    "    c = 2 * np.arcsin(np.sqrt(a))\n",
    "    km = 6367 * c\n",
    "    return km\n",
    "\n",
    "service['dist_BondiJunction'] = \\\n",
    "    haversine_np(service.Longitude.shift(0), service.Latitude.shift(0),\n",
    "                 (151.2497), (-33.8914))"
   ]
  },
  {
   "cell_type": "code",
   "execution_count": 36,
   "metadata": {},
   "outputs": [],
   "source": [
    "# Distance from Maroubra Beach\n",
    "def haversine_np(lon5, lat5, lon6, lat6):\n",
    "    \"\"\"\n",
    "    Calculate the great circle distance between two points\n",
    "    on the earth (specified in decimal degrees)\n",
    "\n",
    "    All args must be of equal length.    \n",
    "\n",
    "    \"\"\"\n",
    "    lon5, lat5, lon6, lat6 = map(np.radians, [lon5, lat5, lon6, lat6])\n",
    "\n",
    "    dlon = lon6 - lon5\n",
    "    dlat = lat6 - lat5\n",
    "\n",
    "    a = np.sin(dlat/2.0)**2 + np.cos(lat5) * np.cos(lat6) * np.sin(dlon/2.0)**2\n",
    "\n",
    "    c = 2 * np.arcsin(np.sqrt(a))\n",
    "    km = 6367 * c\n",
    "    return km\n",
    "\n",
    "service['dist_Maroubra'] = \\\n",
    "    haversine_np(service.Longitude.shift(0), service.Latitude.shift(0),\n",
    "                 (151.2437), (-33.9495))"
   ]
  },
  {
   "cell_type": "code",
   "execution_count": 37,
   "metadata": {},
   "outputs": [],
   "source": [
    "# Distance from Coogee Beach\n",
    "def haversine_np(lon7, lat7, lon8, lat8):\n",
    "    \"\"\"\n",
    "    Calculate the great circle distance between two points\n",
    "    on the earth (specified in decimal degrees)\n",
    "\n",
    "    All args must be of equal length.    \n",
    "\n",
    "    \"\"\"\n",
    "    lon7, lat7, lon8, lat8 = map(np.radians, [lon7, lat7, lon8, lat8])\n",
    "\n",
    "    dlon = lon8 - lon7\n",
    "    dlat = lat8 - lat7\n",
    "\n",
    "    a = np.sin(dlat/2.0)**2 + np.cos(lat7) * np.cos(lat8) * np.sin(dlon/2.0)**2\n",
    "\n",
    "    c = 2 * np.arcsin(np.sqrt(a))\n",
    "    km = 6367 * c\n",
    "    return km\n",
    "\n",
    "service['dist_Coogee'] = \\\n",
    "    haversine_np(service.Longitude.shift(0), service.Latitude.shift(0),\n",
    "                 (151.2555), (-33.9190))"
   ]
  },
  {
   "cell_type": "code",
   "execution_count": 38,
   "metadata": {},
   "outputs": [],
   "source": [
    "# Distance from St Vincent's Hospital\n",
    "def haversine_np(lon9, lat9, lon10, lat10):\n",
    "    \"\"\"\n",
    "    Calculate the great circle distance between two points\n",
    "    on the earth (specified in decimal degrees)\n",
    "\n",
    "    All args must be of equal length.    \n",
    "\n",
    "    \"\"\"\n",
    "    lon9, lat9, lon10, lat10 = map(np.radians, [lon9, lat9, lon10, lat10])\n",
    "\n",
    "    dlon = lon10 - lon9\n",
    "    dlat = lat10 - lat9\n",
    "\n",
    "    a = np.sin(dlat/2.0)**2 + np.cos(lat9) * np.cos(lat10) * np.sin(dlon/2.0)**2\n",
    "\n",
    "    c = 2 * np.arcsin(np.sqrt(a))\n",
    "    km = 6367 * c\n",
    "    return km\n",
    "\n",
    "service['dist_Vincent'] = \\\n",
    "    haversine_np(service.Longitude.shift(0), service.Latitude.shift(0),\n",
    "                 (151.2208), (-33.8805))"
   ]
  },
  {
   "cell_type": "code",
   "execution_count": 39,
   "metadata": {},
   "outputs": [],
   "source": [
    "# Distance from Sydney CBD\n",
    "def haversine_np(lon11, lat11, lon12, lat12):\n",
    "    \"\"\"\n",
    "    Calculate the great circle distance between two points\n",
    "    on the earth (specified in decimal degrees)\n",
    "\n",
    "    All args must be of equal length.    \n",
    "\n",
    "    \"\"\"\n",
    "    lon11, lat11, lon12, lat12 = map(np.radians, [lon11, lat11, lon12, lat12])\n",
    "\n",
    "    dlon = lon12 - lon11\n",
    "    dlat = lat12 - lat11\n",
    "\n",
    "    a = np.sin(dlat/2.0)**2 + np.cos(lat11) * np.cos(lat12) * np.sin(dlon/2.0)**2\n",
    "\n",
    "    c = 2 * np.arcsin(np.sqrt(a))\n",
    "    km = 6367 * c\n",
    "    return km\n",
    "\n",
    "service['dist_CBD'] = \\\n",
    "    haversine_np(service.Longitude.shift(0), service.Latitude.shift(0),\n",
    "                 (151.209900), (-33.865143))"
   ]
  },
  {
   "cell_type": "code",
   "execution_count": 40,
   "metadata": {},
   "outputs": [],
   "source": [
    "# Distance from Prince Alfred Hospital\n",
    "def haversine_np(lon13, lat13, lon14, lat14):\n",
    "    \"\"\"\n",
    "    Calculate the great circle distance between two points\n",
    "    on the earth (specified in decimal degrees)\n",
    "\n",
    "    All args must be of equal length.    \n",
    "\n",
    "    \"\"\"\n",
    "    lon13, lat13, lon14, lat14 = map(np.radians, [lon13, lat13, lon14, lat14])\n",
    "\n",
    "    dlon = lon14 - lon13\n",
    "    dlat = lat14 - lat13\n",
    "\n",
    "    a = np.sin(dlat/2.0)**2 + np.cos(lat13) * np.cos(lat14) * np.sin(dlon/2.0)**2\n",
    "\n",
    "    c = 2 * np.arcsin(np.sqrt(a))\n",
    "    km = 6367 * c\n",
    "    return km\n",
    "\n",
    "service['dist_Alfred'] = \\\n",
    "    haversine_np(service.Longitude.shift(0), service.Latitude.shift(0),\n",
    "                 (151.1826), (-33.8895))"
   ]
  },
  {
   "cell_type": "code",
   "execution_count": 41,
   "metadata": {},
   "outputs": [],
   "source": [
    "# Distance from Prince of Wales Hospital\n",
    "def haversine_np(lon15, lat15, lon16, lat16):\n",
    "    \"\"\"\n",
    "    Calculate the great circle distance between two points\n",
    "    on the earth (specified in decimal degrees)\n",
    "\n",
    "    All args must be of equal length.    \n",
    "\n",
    "    \"\"\"\n",
    "    lon15, lat15, lon16, lat16 = map(np.radians, [lon15, lat15, lon16, lat16])\n",
    "\n",
    "    dlon = lon16 - lon15\n",
    "    dlat = lat16 - lat15\n",
    "\n",
    "    a = np.sin(dlat/2.0)**2 + np.cos(lat15) * np.cos(lat16) * np.sin(dlon/2.0)**2\n",
    "\n",
    "    c = 2 * np.arcsin(np.sqrt(a))\n",
    "    km = 6367 * c\n",
    "    return km\n",
    "\n",
    "service['dist_Wales'] = \\\n",
    "    haversine_np(service.Longitude.shift(0), service.Latitude.shift(0),\n",
    "                 (151.2387), (-33.9190))"
   ]
  },
  {
   "cell_type": "code",
   "execution_count": 42,
   "metadata": {},
   "outputs": [],
   "source": [
    "# Distance from St George Hospital\n",
    "def haversine_np(lon17, lat17, lon18, lat18):\n",
    "    \"\"\"\n",
    "    Calculate the great circle distance between two points\n",
    "    on the earth (specified in decimal degrees)\n",
    "\n",
    "    All args must be of equal length.    \n",
    "\n",
    "    \"\"\"\n",
    "    lon17, lat17, lon18, lat18 = map(np.radians, [lon17, lat17, lon18, lat18])\n",
    "\n",
    "    dlon = lon18 - lon17\n",
    "    dlat = lat18 - lat17\n",
    "\n",
    "    a = np.sin(dlat/2.0)**2 + np.cos(lat17) * np.cos(lat18) * np.sin(dlon/2.0)**2\n",
    "\n",
    "    c = 2 * np.arcsin(np.sqrt(a))\n",
    "    km = 6367 * c\n",
    "    return km\n",
    "\n",
    "service['dist_StGeorge'] = \\\n",
    "    haversine_np(service.Longitude.shift(0), service.Latitude.shift(0),\n",
    "                 (151.1335), (-33.9676))"
   ]
  },
  {
   "cell_type": "code",
   "execution_count": 43,
   "metadata": {},
   "outputs": [],
   "source": [
    "# Distance from Bondi Beach\n",
    "def haversine_np(lon19, lat19, lon20, lat20):\n",
    "    \"\"\"\n",
    "    Calculate the great circle distance between two points\n",
    "    on the earth (specified in decimal degrees)\n",
    "\n",
    "    All args must be of equal length.    \n",
    "\n",
    "    \"\"\"\n",
    "    lon19, lat19, lon20, lat20 = map(np.radians, [lon19, lat19, lon20, lat20])\n",
    "\n",
    "    dlon = lon20 - lon19\n",
    "    dlat = lat20 - lat19\n",
    "\n",
    "    a = np.sin(dlat/2.0)**2 + np.cos(lat19) * np.cos(lat20) * np.sin(dlon/2.0)**2\n",
    "\n",
    "    c = 2 * np.arcsin(np.sqrt(a))\n",
    "    km = 6367 * c\n",
    "    return km\n",
    "\n",
    "service['dist_Bondi'] = \\\n",
    "    haversine_np(service.Longitude.shift(0), service.Latitude.shift(0),\n",
    "                 (151.274292), (-33.89084))"
   ]
  },
  {
   "cell_type": "code",
   "execution_count": 44,
   "metadata": {},
   "outputs": [
    {
     "data": {
      "text/html": [
       "<div>\n",
       "<style scoped>\n",
       "    .dataframe tbody tr th:only-of-type {\n",
       "        vertical-align: middle;\n",
       "    }\n",
       "\n",
       "    .dataframe tbody tr th {\n",
       "        vertical-align: top;\n",
       "    }\n",
       "\n",
       "    .dataframe thead th {\n",
       "        text-align: right;\n",
       "    }\n",
       "</style>\n",
       "<table border=\"1\" class=\"dataframe\">\n",
       "  <thead>\n",
       "    <tr style=\"text-align: right;\">\n",
       "      <th></th>\n",
       "      <th>Servicename</th>\n",
       "      <th>PhysicalAddressSuburb</th>\n",
       "      <th>Year</th>\n",
       "      <th>Residential</th>\n",
       "      <th>AustralianGovernmentFunding</th>\n",
       "      <th>Longitude</th>\n",
       "      <th>Latitude</th>\n",
       "      <th>dist_Clovelly</th>\n",
       "      <th>dist_BondiJunction</th>\n",
       "      <th>dist_Maroubra</th>\n",
       "      <th>dist_Coogee</th>\n",
       "      <th>dist_Vincent</th>\n",
       "      <th>dist_CBD</th>\n",
       "      <th>dist_Alfred</th>\n",
       "      <th>dist_Wales</th>\n",
       "      <th>dist_StGeorge</th>\n",
       "      <th>dist_Bondi</th>\n",
       "    </tr>\n",
       "  </thead>\n",
       "  <tbody>\n",
       "    <tr>\n",
       "      <th>0</th>\n",
       "      <td>St Basil's Annandale</td>\n",
       "      <td>ANNANDALE</td>\n",
       "      <td>2016-2017</td>\n",
       "      <td>83</td>\n",
       "      <td>5146461</td>\n",
       "      <td>151.172733</td>\n",
       "      <td>-33.87589</td>\n",
       "      <td>9.581138</td>\n",
       "      <td>7.306635</td>\n",
       "      <td>10.475849</td>\n",
       "      <td>9.012864</td>\n",
       "      <td>4.464116</td>\n",
       "      <td>3.631338</td>\n",
       "      <td>1.765183</td>\n",
       "      <td>7.744212</td>\n",
       "      <td>10.814297</td>\n",
       "      <td>9.515312</td>\n",
       "    </tr>\n",
       "  </tbody>\n",
       "</table>\n",
       "</div>"
      ],
      "text/plain": [
       "            Servicename PhysicalAddressSuburb       Year  Residential  \\\n",
       "0  St Basil's Annandale             ANNANDALE  2016-2017           83   \n",
       "\n",
       "   AustralianGovernmentFunding   Longitude  Latitude  dist_Clovelly  \\\n",
       "0                      5146461  151.172733 -33.87589       9.581138   \n",
       "\n",
       "   dist_BondiJunction  dist_Maroubra  dist_Coogee  dist_Vincent  dist_CBD  \\\n",
       "0            7.306635      10.475849     9.012864      4.464116  3.631338   \n",
       "\n",
       "   dist_Alfred  dist_Wales  dist_StGeorge  dist_Bondi  \n",
       "0     1.765183    7.744212      10.814297    9.515312  "
      ]
     },
     "execution_count": 44,
     "metadata": {},
     "output_type": "execute_result"
    }
   ],
   "source": [
    "# Check the dataframe\n",
    "service.head(1)"
   ]
  },
  {
   "cell_type": "code",
   "execution_count": 45,
   "metadata": {},
   "outputs": [],
   "source": [
    "# write the new dataframe into the database to the table feature_NSW\n",
    "service.to_sql(name = 'feature_NSW', con = conn, if_exists = 'replace', index = False)"
   ]
  }
 ],
 "metadata": {
  "kernelspec": {
   "display_name": "Python 3",
   "language": "python",
   "name": "python3"
  },
  "language_info": {
   "codemirror_mode": {
    "name": "ipython",
    "version": 3
   },
   "file_extension": ".py",
   "mimetype": "text/x-python",
   "name": "python",
   "nbconvert_exporter": "python",
   "pygments_lexer": "ipython3",
   "version": "3.6.4"
  }
 },
 "nbformat": 4,
 "nbformat_minor": 2
}
