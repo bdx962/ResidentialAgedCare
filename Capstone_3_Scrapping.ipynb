{
 "cells": [
  {
   "cell_type": "markdown",
   "metadata": {},
   "source": [
    "## Scraping Aged Care Facilties Reviews"
   ]
  },
  {
   "cell_type": "code",
   "execution_count": 1,
   "metadata": {},
   "outputs": [],
   "source": [
    "# import\n",
    "import requests\n",
    "from bs4 import BeautifulSoup\n",
    "import urllib.request, urllib.parse, urllib.error\n",
    "from urllib.parse import urljoin\n",
    "import lxml\n",
    "import html\n",
    "import re\n",
    "from selenium import webdriver\n",
    "import pandas as pd"
   ]
  },
  {
   "cell_type": "code",
   "execution_count": 2,
   "metadata": {},
   "outputs": [],
   "source": [
    "import sqlite3\n",
    "sqlite_db = './openlib.db'\n",
    "conn = sqlite3.connect(sqlite_db) \n",
    "c = conn.cursor()"
   ]
  },
  {
   "cell_type": "code",
   "execution_count": 3,
   "metadata": {},
   "outputs": [],
   "source": [
    "c = sqlite3.connect('./openlib.db')\n",
    "\n",
    "def Q(query, db=c):\n",
    "    return sql.read_sql(query, db)"
   ]
  },
  {
   "cell_type": "code",
   "execution_count": 4,
   "metadata": {},
   "outputs": [],
   "source": [
    "# import sleep\n",
    "from time import sleep"
   ]
  },
  {
   "cell_type": "code",
   "execution_count": 16,
   "metadata": {},
   "outputs": [],
   "source": [
    "# Backup\n",
    "# visit our relevant page\n",
    "driver = webdriver.Chrome(executable_path=\"./chromedriver/chromedriver.exe\")\n",
    "driver.get(\"https://agedcarereviews.com.au/searchresult.php?search=&suburb=Hunters+Hill+-+NSW&lat=&lng=&range=30\")\n",
    "# wait one second\n",
    "sleep(1)\n",
    "#grab the page source\n",
    "html = driver.page_source"
   ]
  },
  {
   "cell_type": "code",
   "execution_count": 17,
   "metadata": {},
   "outputs": [],
   "source": [
    "# BeautifulSoup it!\n",
    "html = BeautifulSoup(html,'lxml')"
   ]
  },
  {
   "cell_type": "code",
   "execution_count": 18,
   "metadata": {},
   "outputs": [
    {
     "data": {
      "text/plain": [
       "7"
      ]
     },
     "execution_count": 18,
     "metadata": {},
     "output_type": "execute_result"
    }
   ],
   "source": [
    "len(html)"
   ]
  },
  {
   "cell_type": "code",
   "execution_count": 19,
   "metadata": {},
   "outputs": [],
   "source": [
    "import pandas as pd\n",
    "box = pd.DataFrame(columns=[\"f_link\",\"name\",\"rate_v\",\"text\",\"qty\",\"review\"])"
   ]
  },
  {
   "cell_type": "code",
   "execution_count": 20,
   "metadata": {},
   "outputs": [],
   "source": [
    "for entry in html.find_all('div',\"box\"):\n",
    "\n",
    "    try:\n",
    "       # grab the link\n",
    "        for link in entry.find_all('div',\"upper\"):\n",
    "            a = link.find('a')\n",
    "            f_link = (a.attrs['href'])\n",
    "            #print (f_link)\n",
    "\n",
    "\n",
    "        # grab name and the rating       \n",
    "        driver.get(f_link)\n",
    "        sleep(1)\n",
    "        s_html=driver.page_source\n",
    "        s_html= BeautifulSoup(s_html, 'lxml')\n",
    "        try:\n",
    "            for s2 in s_html.find_all('div',\"left-side-title\"):\n",
    "                name=(s2.find('h1', {'itemprop': 'name'}).text)\n",
    "                rate_v=(s2.find('span', {'itemprop': 'ratingValue'}).text)\n",
    "        except:\n",
    "            entry='no records'            \n",
    "\n",
    "        try:\n",
    "            for s3 in s_html.find_all('div',\"review_small_right\"):\n",
    "                text=(s3.find('div', {'class': 'tab_review_bottom active'}).text)\n",
    "                for s4 in s3.find_all('div',\"tab_review_bottom active\"):\n",
    "                    qty=(s4.find('div', {'class': 'star_rating'}).attrs)\n",
    "        except:\n",
    "            entry='no records'   \n",
    "        \n",
    "        try:\n",
    "            for s5 in s_html.find_all('div',\"comment_container\"):\n",
    "                for s6 in s5.find_all('div',\"right_comment\"):\n",
    "                    review=(s6.find('div', {'class': 'inner-comment-container'}).text)\n",
    "        except:\n",
    "            entry='no records'       \n",
    "    except:\n",
    "        entry='no records'\n",
    "\n",
    "    box.loc[len(box)]=[f_link,name,rate_v,text,qty,review]"
   ]
  },
  {
   "cell_type": "code",
   "execution_count": 21,
   "metadata": {},
   "outputs": [],
   "source": [
    "box.to_sql(name = 'box', con = conn, if_exists = 'replace', index = False)"
   ]
  },
  {
   "cell_type": "code",
   "execution_count": 22,
   "metadata": {},
   "outputs": [],
   "source": [
    "box.to_csv('C:/Users/lynn_/OneDrive/Documents/Lynn/general_assembly/box.csv')"
   ]
  },
  {
   "cell_type": "code",
   "execution_count": 89,
   "metadata": {},
   "outputs": [
    {
     "data": {
      "text/plain": [
       "UnitingCare The Marion                                                      1\n",
       "Presbyterian Aged Care Ashfield                                             1\n",
       "Ashburn House Aged Care Facility                                            1\n",
       "IRT Woolwich                                                                1\n",
       "UnitingCare Community Care East                                             1\n",
       "Allied Healthcare Australia North Ryde                                      1\n",
       "UnitingCare St Columba's Retirement Centre                                  1\n",
       "Marian Hostel                                                               1\n",
       "James Milson Village                                                        1\n",
       "RFBI Concord Community Hostel                                               1\n",
       "Russell Lea Nursing Home                                                    1\n",
       "St Mary's Villa Concord                                                     1\n",
       "Clermont Aged Care                                                          1\n",
       "Bupa Willoughby                                                             1\n",
       "Bupa Ashfield                                                               1\n",
       "Bupa Ashbury                                                                1\n",
       "St Anne's Nursing Home                                                      1\n",
       "UnitingCare Lynvale Nursing Home                                            1\n",
       "Willows Private Nursing Home                                                1\n",
       "Estia Health Elizabeth Lodge                                                1\n",
       "Royal District Nursing Service NSW                                          1\n",
       "St Joseph Hostel                                                            1\n",
       "UnitingCare Thomas Bowden Village                                           1\n",
       "UnitingCare Social Support for Multicultural Communities Northern Sydney    1\n",
       "UnitingCare Community Care Northern Sydney                                  1\n",
       "Minnamurra                                                                  1\n",
       "New Horizons Aged Care Facility                                             1\n",
       "UnitingCare Community Care Inner West                                       1\n",
       "UnitingCare Social Support for Older Men (MATE)                             1\n",
       "Redleaf Manor                                                               1\n",
       "                                                                           ..\n",
       "Windward Manor                                                              1\n",
       "Glades Bay Gardens                                                          1\n",
       "Polish Australian Welfare Association Community Care                        1\n",
       "Winston House & Lorna Williams Aged Care                                    1\n",
       "Holy Spirit Residential Aged Care Croydon                                   1\n",
       "Sister Dorothea Village                                                     1\n",
       "UnitingCare Veterans Home Care Northern Sydney                              1\n",
       "Scalabrini Drummoyne                                                        1\n",
       "AH Orr Lodge                                                                1\n",
       "Opal Annandale                                                              1\n",
       "Catholic Community Services Lifestyle Home Services                         1\n",
       "Forest View Nursing Home                                                    1\n",
       "COASIT Community Care                                                       1\n",
       "Darling House                                                               1\n",
       "Hall & Prior Glenwood Aged Care Home                                        1\n",
       "Dougherty Apartments                                                        1\n",
       "Alzheimer's Australia (NSW)                                                 1\n",
       "Hunters Hill Village                                                        1\n",
       "UnitingCare Annesley House                                                  1\n",
       "St Ezekiel Moreno Nursing Home & Hostel                                     1\n",
       "San Antonio da Padova Nursing Home                                          1\n",
       "Just Better Care Northern Suburbs                                           1\n",
       "UnitingCare Kamilaroi Retirement Centre                                     1\n",
       "Estia Health Ryde                                                           1\n",
       "Hall & Prior Caroline Chisholm Aged Care Home                               1\n",
       "Whitehall Nursing Home                                                      1\n",
       "Catholic Community Services Metro North                                     1\n",
       "Catholic Community Services Metro South East                                1\n",
       "UnitingCare Quong Tart at Gallop House                                      1\n",
       "Parkview Nursing Home                                                       1\n",
       "Name: name, Length: 80, dtype: int64"
      ]
     },
     "execution_count": 89,
     "metadata": {},
     "output_type": "execute_result"
    }
   ],
   "source": [
    "box.name.value_counts()"
   ]
  },
  {
   "cell_type": "code",
   "execution_count": 82,
   "metadata": {},
   "outputs": [],
   "source": [
    "# close it\n",
    "driver.close()"
   ]
  },
  {
   "cell_type": "code",
   "execution_count": null,
   "metadata": {},
   "outputs": [],
   "source": []
  },
  {
   "cell_type": "markdown",
   "metadata": {},
   "source": [
    "## Notes"
   ]
  },
  {
   "cell_type": "code",
   "execution_count": null,
   "metadata": {},
   "outputs": [],
   "source": [
    "test_str = '''\n",
    "<div class=\"star_rating\" data-score=\"4.34\" style=\"float: \n",
    "left; width: 100px;\" title=\"very good\" id=\"ui-id-1\">\n",
    "<img src=\"https://agedcarereviews.com.au/js/raty/img/star-on.png\" alt=\"1\" title=\"very good\">&nbsp;\n",
    "<img src=\"https://agedcarereviews.com.au/js/raty/img/star-on.png\" alt=\"2\" title=\"very good\">&nbsp;\n",
    "<img src=\"https://agedcarereviews.com.au/js/raty/img/star-on.png\" alt=\"3\" title=\"very good\">&nbsp;\n",
    "<img src=\"https://agedcarereviews.com.au/js/raty/img/star-on.png\" alt=\"4\" title=\"very good\">&nbsp;\n",
    "<img src=\"https://agedcarereviews.com.au/js/raty/img/star-half.png\" alt=\"5\" title=\"very good\">\n",
    "<input type=\"hidden\" name=\"score\" value=\"4.34\" readonly=\"readonly\"></div>\n",
    "\n",
    "'''"
   ]
  },
  {
   "cell_type": "code",
   "execution_count": null,
   "metadata": {},
   "outputs": [],
   "source": [
    "test_str"
   ]
  },
  {
   "cell_type": "code",
   "execution_count": null,
   "metadata": {},
   "outputs": [],
   "source": [
    "test_str_soup = BeautifulSoup(test_str,'lxml')"
   ]
  },
  {
   "cell_type": "code",
   "execution_count": null,
   "metadata": {},
   "outputs": [],
   "source": [
    "found_a = test_str_soup.find('div')\n",
    "found_link = found_a.attrs['data-score']\n",
    "print (found_link)"
   ]
  },
  {
   "cell_type": "code",
   "execution_count": null,
   "metadata": {},
   "outputs": [],
   "source": [
    "base_url='https://au.indeed.com/'\n",
    "\n",
    "\n",
    "for entry in html.find_all('div',\"row result clickcard\"):\n",
    "\n",
    "    try:\n",
    "       # grab the link\n",
    "        for link in entry.find_all('h2', {'class': 'jobtitle'}):\n",
    "            a = link.find('a')\n",
    "            f_link = urljoin(base_url,a.attrs['href'])\n",
    "            #print (f_link)\n",
    "\n",
    "\n",
    "        # grab full job summary        \n",
    "        driver.get(f_link)\n",
    "        sleep(1)\n",
    "        s_html=driver.page_source\n",
    "        s_html= BeautifulSoup(s_html, 'lxml')\n",
    "        for s2 in s_html.find_all('table', {'id': 'job-content'}):\n",
    "            s1=(s2.find('span', {'class': 'summary'}).text)\n",
    "            #print(s1)\n",
    "\n",
    "        # grab the title\n",
    "        for t in entry.findAll('h2', {'class': 'jobtitle'}):\n",
    "            b = t.find('a')\n",
    "            title=(b.text.strip())\n",
    "\n",
    "        # grab the company\n",
    "        try:\n",
    "            company = (entry.find('span', \"company\").text)\n",
    "            if company:\n",
    "                company = (entry.find('span', \"company\").text)\n",
    "        except:\n",
    "            company='NA'\n",
    "\n",
    "        # grab the location\n",
    "        try:\n",
    "            location=(entry.find('span', {'class': 'location'}).text)\n",
    "            if location:\n",
    "                location = (entry.find('span', {'class': 'location'}).text)\n",
    "        except:\n",
    "            location='NA'\n",
    "\n",
    "        # grab the salary scale\n",
    "        try:\n",
    "            salaryscale=(entry.find('span', class_=\"no-wrap\").text)\n",
    "            if salaryscale:\n",
    "                salaryscale=(entry.find('span', class_=\"no-wrap\").text)\n",
    "        except:\n",
    "            salaryscale='NA'\n",
    "\n",
    "        # grab the summary\n",
    "        try:\n",
    "            summary = (entry.find('span', {'class': 'summary'}).text)\n",
    "            if summary:\n",
    "                summary = (entry.find('span', {'class': 'summary'}).text)\n",
    "        except:\n",
    "            summary='NA'\n",
    "\n",
    "        # grab the job sponsor\n",
    "        try:\n",
    "            sponsor = (entry.find('span', {'class': 'sponsoredGray'}).text)\n",
    "            if sponsor:\n",
    "                sponsor = (entry.find('span', {'class': 'sponsoredGray'}).text)\n",
    "        except:\n",
    "            sponsor='NA'\n",
    "\n",
    "        # grab the date\n",
    "        try:\n",
    "            date = (entry.find('span', class_=\"date\").text)\n",
    "            if date:\n",
    "                date = (entry.find('span', class_=\"date\").text)\n",
    "        except:\n",
    "            date='NA'\n",
    "\n",
    "    except:\n",
    "        entry='no records'\n",
    "\n",
    "    i_card.loc[len(i_card)]=[f_link,title,company,location,salaryscale,summary,sponsor,date,s1]\n"
   ]
  }
 ],
 "metadata": {
  "kernelspec": {
   "display_name": "Python 3",
   "language": "python",
   "name": "python3"
  },
  "language_info": {
   "codemirror_mode": {
    "name": "ipython",
    "version": 3
   },
   "file_extension": ".py",
   "mimetype": "text/x-python",
   "name": "python",
   "nbconvert_exporter": "python",
   "pygments_lexer": "ipython3",
   "version": "3.6.4"
  }
 },
 "nbformat": 4,
 "nbformat_minor": 2
}
